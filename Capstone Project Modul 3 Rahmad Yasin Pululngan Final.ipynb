{
 "cells": [
  {
   "cell_type": "markdown",
   "id": "61222f9b",
   "metadata": {},
   "source": [
    "# TRAVEL CLAIM : WHO IS GOING TO CLAIM ?"
   ]
  },
  {
   "attachments": {
    "image-2.png": {
     "image/png": "[encoded data removed]"
    }
   },
   "cell_type": "markdown",
   "id": "e21e2993",
   "metadata": {},
   "source": [
    "# 1 Business Problem\n",
    "\n",
    "## 1.1 Context \n",
    "Dalam memulai awal tahun sebuah perusahaan asuransi  asal Singapura ingin menyusun rencana anggaran keuangan untuk setahun kedepan. Dari data customer yang melakukan dan tidak melakukan claim sebelumnya, perushaan ingin memprediksi siapa saja customer yang akan melakukan claim kedepannya agar perusahaan membuat renca keuangan yang baik serta dapat mengalokasikan keuangan untuk diputar pada bisnis lainnya.\n",
    "\n",
    "\n",
    "## 1.2 Problem Statement\n",
    "Perusahaan dalam membuat rencana anggaran, ingin memprediksi pada produk asuransi perjalanan mereka manakah customer yang akan melakukan claim serta yang tidak akan melakukan claim, agar perusahaan dapat menyiapkan dana tidak bergerak yang dibutuhkan, agar perushaan tetap memiliki dana yang cukup, apabila sewaktu-waktu customer melakukan claim, dan dana lainnya tetap bisa digunakan untuk mengembangkan bisnis lainnya.\n",
    "\n",
    "\n",
    "## 1.3 Goals\n",
    "Dengan bantuan machine learning kita ingin memprediksi customer mana saja yang akan melakukan claim dan mana yang tidak melakukan claim, dari hasil yang didapatkan kita akan memberikan perkiraan dana tidak bergerak yang akan dibutuhkan perusahaan untuk tetap diam dan tidak dipergunakan untuk bisnis lainnya, sehingga perusahaan tetap bisa mencairkan dana claim customer dan membuat citra perusahaan tetap baik serta dapat mengalokasikan dana yang diperlukan untuk mengembangkan bisnis lainnya.\n",
    "\n",
    "## 1.4 Analytic Approach\n",
    "Dari feature-feature yang telah dipilih nanti, kita akan membuat model klafikasi untuk memprediksi customer mana yang berpotensi untuk melakukan claim dan customer mana yang tidak akan melakukan claim asuransi.\n",
    "\n",
    "## 1.5 Matrix Evaluation \n",
    "\n",
    "Target :                 \n",
    "* 1 : Customer Melakukan Claim                 \n",
    "* 0 : Customer Tidak Melakukan Claim            \n",
    "\n",
    "![image-2.png](attachment:image-2.png)\n",
    "\n",
    "* TP = dapat memprediksi customer yang berpotensi untuk melakukan claim\n",
    "* TN = dapat memprediksi customer yang tidak akan melakukan claim\n",
    "* FP = salah memprediksi customer yang berpotensi melakukan claim asuransi tetapi kenyataanya tidak melakukan claim asuransi   \n",
    "    cons : Terjadinya idle cash yang mengakibatkan tidak produktifnya perencanaan keuangan perusahaan\n",
    "* FN = salah memprediksi customer yang tidak akan melakukan claim asuransi tetapi kenyataanya customer melakukan claim asuransi <br>\n",
    "    cons : Perusahaan memerlukan dana yang tidak dipersiapkan sebelumnya yang mengakibatkan claim jadi lebih lambat dan reputasi perusahaan menurun\n",
    "    \n",
    "\n",
    "Berdasarkan problem statement disini kita tidak ingin salah dalam memprediksi customer mana yang akan melakukan claim dan tidak, dari konsekuensi yang diberikan disini kita ingin menekan nilai False Positive (FP) dan False Negative (FN). agar memastikan prediksi yang kita lakukan sesuai. dari data yang diberikan, kita melihat bahwa data yang diberikan merupakan data imbalance. oleh karena itu matrix evaluasi yang kita pilih ialah yang memiliki nilai F1 yang paling tinggi."
   ]
  },
  {
   "cell_type": "markdown",
   "id": "1cea0edc",
   "metadata": {},
   "source": [
    "# 2. Simple Explanatory Data Analysis"
   ]
  },
  {
   "cell_type": "code",
   "execution_count": 109,
   "id": "eece788f",
   "metadata": {},
   "outputs": [],
   "source": [
    "# Library\n",
    "import pandas as pd\n",
    "import numpy as np\n",
    "\n",
    "import missingno\n",
    "from scipy.stats import chi2_contingency\n",
    "\n",
    "# Visualization\n",
    "import seaborn as sns\n",
    "import matplotlib.pyplot as plt\n",
    "\n",
    "# Feature Engineering\n",
    "from sklearn.impute import SimpleImputer\n",
    "from sklearn.preprocessing import OneHotEncoder, FunctionTransformer, StandardScaler, PolynomialFeatures\n",
    "from sklearn.compose import ColumnTransformer\n",
    "import category_encoders as ce\n",
    "\n",
    "# Model Selection\n",
    "from sklearn.linear_model import LogisticRegression\n",
    "from sklearn.tree import DecisionTreeClassifier\n",
    "from sklearn.model_selection import GridSearchCV, StratifiedKFold, train_test_split, cross_val_score\n",
    "from sklearn.metrics import classification_report, confusion_matrix\n",
    "from sklearn.neighbors import KNeighborsClassifier\n",
    "from sklearn.ensemble import RandomForestClassifier\n",
    "from xgboost import XGBClassifier\n",
    "\n",
    "from sklearn.metrics import fbeta_score, make_scorer, accuracy_score, recall_score, f1_score, precision_score\n",
    "from sklearn.metrics import precision_score, roc_curve, roc_auc_score, plot_roc_curve\n",
    "from sklearn.metrics import plot_confusion_matrix\n",
    "\n",
    "# Imbalance Dataset\n",
    "from imblearn.pipeline import Pipeline\n",
    "from imblearn.over_sampling import RandomOverSampler, SMOTE\n",
    "from imblearn.under_sampling import RandomUnderSampler, NearMiss\n",
    "\n",
    "# saving/loading model\n",
    "import pickle\n",
    "\n",
    "# Ignore Warning\n",
    "import sys\n",
    "import warnings\n",
    "if not sys.warnoptions:\n",
    "    warnings.simplefilter('ignore')"
   ]
  },
  {
   "cell_type": "markdown",
   "id": "f9fb4d25",
   "metadata": {},
   "source": [
    "## 2.1 DATA UNDERSTANDING"
   ]
  },
  {
   "cell_type": "code",
   "execution_count": 2,
   "id": "6c1eaf7f",
   "metadata": {},
   "outputs": [
    {
     "data": {
      "text/html": [
       "<div>\n",
       "<style scoped>\n",
       "    .dataframe tbody tr th:only-of-type {\n",
       "        vertical-align: middle;\n",
       "    }\n",
       "\n",
       "    .dataframe tbody tr th {\n",
       "        vertical-align: top;\n",
       "    }\n",
       "\n",
       "    .dataframe thead th {\n",
       "        text-align: right;\n",
       "    }\n",
       "</style>\n",
       "<table border=\"1\" class=\"dataframe\">\n",
       "  <thead>\n",
       "    <tr style=\"text-align: right;\">\n",
       "      <th></th>\n",
       "      <th>Agency</th>\n",
       "      <th>Agency Type</th>\n",
       "      <th>Distribution Channel</th>\n",
       "      <th>Product Name</th>\n",
       "      <th>Gender</th>\n",
       "      <th>Duration</th>\n",
       "      <th>Destination</th>\n",
       "      <th>Net Sales</th>\n",
       "      <th>Commision (in value)</th>\n",
       "      <th>Age</th>\n",
       "      <th>Claim</th>\n",
       "    </tr>\n",
       "  </thead>\n",
       "  <tbody>\n",
       "    <tr>\n",
       "      <th>0</th>\n",
       "      <td>C2B</td>\n",
       "      <td>Airlines</td>\n",
       "      <td>Online</td>\n",
       "      <td>Annual Silver Plan</td>\n",
       "      <td>F</td>\n",
       "      <td>365</td>\n",
       "      <td>SINGAPORE</td>\n",
       "      <td>216.0</td>\n",
       "      <td>54.0</td>\n",
       "      <td>57</td>\n",
       "      <td>No</td>\n",
       "    </tr>\n",
       "    <tr>\n",
       "      <th>1</th>\n",
       "      <td>EPX</td>\n",
       "      <td>Travel Agency</td>\n",
       "      <td>Online</td>\n",
       "      <td>Cancellation Plan</td>\n",
       "      <td>NaN</td>\n",
       "      <td>4</td>\n",
       "      <td>MALAYSIA</td>\n",
       "      <td>10.0</td>\n",
       "      <td>0.0</td>\n",
       "      <td>33</td>\n",
       "      <td>No</td>\n",
       "    </tr>\n",
       "    <tr>\n",
       "      <th>2</th>\n",
       "      <td>JZI</td>\n",
       "      <td>Airlines</td>\n",
       "      <td>Online</td>\n",
       "      <td>Basic Plan</td>\n",
       "      <td>M</td>\n",
       "      <td>19</td>\n",
       "      <td>INDIA</td>\n",
       "      <td>22.0</td>\n",
       "      <td>7.7</td>\n",
       "      <td>26</td>\n",
       "      <td>No</td>\n",
       "    </tr>\n",
       "    <tr>\n",
       "      <th>3</th>\n",
       "      <td>EPX</td>\n",
       "      <td>Travel Agency</td>\n",
       "      <td>Online</td>\n",
       "      <td>2 way Comprehensive Plan</td>\n",
       "      <td>NaN</td>\n",
       "      <td>20</td>\n",
       "      <td>UNITED STATES</td>\n",
       "      <td>112.0</td>\n",
       "      <td>0.0</td>\n",
       "      <td>59</td>\n",
       "      <td>No</td>\n",
       "    </tr>\n",
       "    <tr>\n",
       "      <th>4</th>\n",
       "      <td>C2B</td>\n",
       "      <td>Airlines</td>\n",
       "      <td>Online</td>\n",
       "      <td>Bronze Plan</td>\n",
       "      <td>M</td>\n",
       "      <td>8</td>\n",
       "      <td>SINGAPORE</td>\n",
       "      <td>16.0</td>\n",
       "      <td>4.0</td>\n",
       "      <td>28</td>\n",
       "      <td>No</td>\n",
       "    </tr>\n",
       "  </tbody>\n",
       "</table>\n",
       "</div>"
      ],
      "text/plain": [
       "  Agency    Agency Type Distribution Channel              Product Name Gender  \\\n",
       "0    C2B       Airlines               Online        Annual Silver Plan      F   \n",
       "1    EPX  Travel Agency               Online         Cancellation Plan    NaN   \n",
       "2    JZI       Airlines               Online                Basic Plan      M   \n",
       "3    EPX  Travel Agency               Online  2 way Comprehensive Plan    NaN   \n",
       "4    C2B       Airlines               Online               Bronze Plan      M   \n",
       "\n",
       "   Duration    Destination  Net Sales  Commision (in value)  Age Claim  \n",
       "0       365      SINGAPORE      216.0                  54.0   57    No  \n",
       "1         4       MALAYSIA       10.0                   0.0   33    No  \n",
       "2        19          INDIA       22.0                   7.7   26    No  \n",
       "3        20  UNITED STATES      112.0                   0.0   59    No  \n",
       "4         8      SINGAPORE       16.0                   4.0   28    No  "
      ]
     },
     "execution_count": 2,
     "metadata": {},
     "output_type": "execute_result"
    }
   ],
   "source": [
    "# Load Dataset\n",
    "travel = pd.read_csv(\"data_travel_insurance.csv\")\n",
    "travel.head()"
   ]
  },
  {
   "cell_type": "code",
   "execution_count": 3,
   "id": "cb8fc263",
   "metadata": {},
   "outputs": [
    {
     "data": {
      "text/plain": [
       "(44328, 11)"
      ]
     },
     "execution_count": 3,
     "metadata": {},
     "output_type": "execute_result"
    }
   ],
   "source": [
    "# ingin mengetahui jumlah baris dan kolom dataset\n",
    "travel.shape"
   ]
  },
  {
   "cell_type": "markdown",
   "id": "ce5f3305",
   "metadata": {},
   "source": [
    "### ATRIBUT\n",
    "- Target:  \n",
    "    * `Claim`                : Apakah customer melakukan claim atau tidak\n",
    "    \n",
    "- Feature: \n",
    "    * `Agency`               : Nama travel agensi    \n",
    "    * `Agency Type`          : Tipe travel agensi                \n",
    "    * `Distribution Channel` : Cara agensi mendistribusikan produknya       \n",
    "    * `Poduct Name`          : Nama produk asuransi           \n",
    "    * `Gender`               : Jenis kelamin dari pemegang asuransi    \n",
    "    * `Duration`             : Durasi perjalanan produk yang satuannya adalah Hari           \n",
    "    * `Destination`          : Tujuan perjalanan produk             \n",
    "    * `Net Sales`            : Besaran harga penjualan produk asuransi             \n",
    "    * `Commission`           : Besaran komisi yang didapat oleh travel agensi             \n",
    "    * `Age`                  : Usia dari pemegang asuransi     "
   ]
  },
  {
   "cell_type": "code",
   "execution_count": 4,
   "id": "c2835578",
   "metadata": {},
   "outputs": [
    {
     "name": "stdout",
     "output_type": "stream",
     "text": [
      "<class 'pandas.core.frame.DataFrame'>\n",
      "RangeIndex: 44328 entries, 0 to 44327\n",
      "Data columns (total 11 columns):\n",
      " #   Column                Non-Null Count  Dtype  \n",
      "---  ------                --------------  -----  \n",
      " 0   Agency                44328 non-null  object \n",
      " 1   Agency Type           44328 non-null  object \n",
      " 2   Distribution Channel  44328 non-null  object \n",
      " 3   Product Name          44328 non-null  object \n",
      " 4   Gender                12681 non-null  object \n",
      " 5   Duration              44328 non-null  int64  \n",
      " 6   Destination           44328 non-null  object \n",
      " 7   Net Sales             44328 non-null  float64\n",
      " 8   Commision (in value)  44328 non-null  float64\n",
      " 9   Age                   44328 non-null  int64  \n",
      " 10  Claim                 44328 non-null  object \n",
      "dtypes: float64(2), int64(2), object(7)\n",
      "memory usage: 3.7+ MB\n"
     ]
    }
   ],
   "source": [
    "travel.info()"
   ]
  },
  {
   "cell_type": "code",
   "execution_count": 5,
   "id": "7f8f6c2a",
   "metadata": {},
   "outputs": [
    {
     "data": {
      "text/plain": [
       "No     43651\n",
       "Yes      677\n",
       "Name: Claim, dtype: int64"
      ]
     },
     "metadata": {},
     "output_type": "display_data"
    },
    {
     "data": {
      "text/plain": [
       "No     98.472749\n",
       "Yes     1.527251\n",
       "Name: Claim, dtype: float64"
      ]
     },
     "metadata": {},
     "output_type": "display_data"
    }
   ],
   "source": [
    "# cek keseimbangan data pada target\n",
    "display (travel['Claim'].value_counts(),  # isi data pada variabel claim\n",
    "         travel['Claim'].value_counts()/travel.shape[0]*100) # persentase isi data pada variabel claim"
   ]
  },
  {
   "cell_type": "code",
   "execution_count": 6,
   "id": "e2d5c613",
   "metadata": {},
   "outputs": [
    {
     "data": {
      "text/plain": [
       "<AxesSubplot:xlabel='Claim', ylabel='count'>"
      ]
     },
     "execution_count": 6,
     "metadata": {},
     "output_type": "execute_result"
    },
    {
     "data": {
      "image/png": "[encoded data removed]",
      "text/plain": [
       "<Figure size 864x432 with 1 Axes>"
      ]
     },
     "metadata": {
      "needs_background": "light"
     },
     "output_type": "display_data"
    }
   ],
   "source": [
    "plt.figure(figsize=(12, 6))\n",
    "sns.countplot(x='Claim', data=travel,\n",
    "             order=travel['Claim'].value_counts().index)"
   ]
  },
  {
   "cell_type": "code",
   "execution_count": 7,
   "id": "feecb165",
   "metadata": {},
   "outputs": [
    {
     "data": {
      "text/plain": [
       "Agency                      0\n",
       "Agency Type                 0\n",
       "Distribution Channel        0\n",
       "Product Name                0\n",
       "Gender                  31647\n",
       "Duration                    0\n",
       "Destination                 0\n",
       "Net Sales                   0\n",
       "Commision (in value)        0\n",
       "Age                         0\n",
       "Claim                       0\n",
       "dtype: int64"
      ]
     },
     "execution_count": 7,
     "metadata": {},
     "output_type": "execute_result"
    }
   ],
   "source": [
    "# mengecek missing value pada dataset \n",
    "travel.isna().sum()"
   ]
  },
  {
   "cell_type": "code",
   "execution_count": 8,
   "id": "51794609",
   "metadata": {},
   "outputs": [
    {
     "data": {
      "text/plain": [
       "4667"
      ]
     },
     "execution_count": 8,
     "metadata": {},
     "output_type": "execute_result"
    }
   ],
   "source": [
    "#cek data duplikat\n",
    "travel.duplicated().sum()"
   ]
  },
  {
   "cell_type": "code",
   "execution_count": 9,
   "id": "b1a252d4",
   "metadata": {},
   "outputs": [
    {
     "data": {
      "text/html": [
       "<div>\n",
       "<style scoped>\n",
       "    .dataframe tbody tr th:only-of-type {\n",
       "        vertical-align: middle;\n",
       "    }\n",
       "\n",
       "    .dataframe tbody tr th {\n",
       "        vertical-align: top;\n",
       "    }\n",
       "\n",
       "    .dataframe thead th {\n",
       "        text-align: right;\n",
       "    }\n",
       "</style>\n",
       "<table border=\"1\" class=\"dataframe\">\n",
       "  <thead>\n",
       "    <tr style=\"text-align: right;\">\n",
       "      <th></th>\n",
       "      <th>Duration</th>\n",
       "      <th>Net Sales</th>\n",
       "      <th>Commision (in value)</th>\n",
       "      <th>Age</th>\n",
       "    </tr>\n",
       "  </thead>\n",
       "  <tbody>\n",
       "    <tr>\n",
       "      <th>count</th>\n",
       "      <td>44328.000000</td>\n",
       "      <td>44328.000000</td>\n",
       "      <td>44328.000000</td>\n",
       "      <td>44328.000000</td>\n",
       "    </tr>\n",
       "    <tr>\n",
       "      <th>mean</th>\n",
       "      <td>49.424292</td>\n",
       "      <td>40.550948</td>\n",
       "      <td>9.707692</td>\n",
       "      <td>39.925600</td>\n",
       "    </tr>\n",
       "    <tr>\n",
       "      <th>std</th>\n",
       "      <td>109.153961</td>\n",
       "      <td>48.661970</td>\n",
       "      <td>19.625637</td>\n",
       "      <td>13.954926</td>\n",
       "    </tr>\n",
       "    <tr>\n",
       "      <th>min</th>\n",
       "      <td>-1.000000</td>\n",
       "      <td>-357.500000</td>\n",
       "      <td>0.000000</td>\n",
       "      <td>0.000000</td>\n",
       "    </tr>\n",
       "    <tr>\n",
       "      <th>25%</th>\n",
       "      <td>9.000000</td>\n",
       "      <td>18.000000</td>\n",
       "      <td>0.000000</td>\n",
       "      <td>35.000000</td>\n",
       "    </tr>\n",
       "    <tr>\n",
       "      <th>50%</th>\n",
       "      <td>22.000000</td>\n",
       "      <td>26.500000</td>\n",
       "      <td>0.000000</td>\n",
       "      <td>36.000000</td>\n",
       "    </tr>\n",
       "    <tr>\n",
       "      <th>75%</th>\n",
       "      <td>53.000000</td>\n",
       "      <td>48.000000</td>\n",
       "      <td>11.550000</td>\n",
       "      <td>43.000000</td>\n",
       "    </tr>\n",
       "    <tr>\n",
       "      <th>max</th>\n",
       "      <td>4881.000000</td>\n",
       "      <td>810.000000</td>\n",
       "      <td>283.500000</td>\n",
       "      <td>118.000000</td>\n",
       "    </tr>\n",
       "  </tbody>\n",
       "</table>\n",
       "</div>"
      ],
      "text/plain": [
       "           Duration     Net Sales  Commision (in value)           Age\n",
       "count  44328.000000  44328.000000          44328.000000  44328.000000\n",
       "mean      49.424292     40.550948              9.707692     39.925600\n",
       "std      109.153961     48.661970             19.625637     13.954926\n",
       "min       -1.000000   -357.500000              0.000000      0.000000\n",
       "25%        9.000000     18.000000              0.000000     35.000000\n",
       "50%       22.000000     26.500000              0.000000     36.000000\n",
       "75%       53.000000     48.000000             11.550000     43.000000\n",
       "max     4881.000000    810.000000            283.500000    118.000000"
      ]
     },
     "metadata": {},
     "output_type": "display_data"
    },
    {
     "data": {
      "text/html": [
       "<div>\n",
       "<style scoped>\n",
       "    .dataframe tbody tr th:only-of-type {\n",
       "        vertical-align: middle;\n",
       "    }\n",
       "\n",
       "    .dataframe tbody tr th {\n",
       "        vertical-align: top;\n",
       "    }\n",
       "\n",
       "    .dataframe thead th {\n",
       "        text-align: right;\n",
       "    }\n",
       "</style>\n",
       "<table border=\"1\" class=\"dataframe\">\n",
       "  <thead>\n",
       "    <tr style=\"text-align: right;\">\n",
       "      <th></th>\n",
       "      <th>count</th>\n",
       "      <th>unique</th>\n",
       "      <th>top</th>\n",
       "      <th>freq</th>\n",
       "    </tr>\n",
       "  </thead>\n",
       "  <tbody>\n",
       "    <tr>\n",
       "      <th>Agency</th>\n",
       "      <td>44328</td>\n",
       "      <td>16</td>\n",
       "      <td>EPX</td>\n",
       "      <td>24656</td>\n",
       "    </tr>\n",
       "    <tr>\n",
       "      <th>Agency Type</th>\n",
       "      <td>44328</td>\n",
       "      <td>2</td>\n",
       "      <td>Travel Agency</td>\n",
       "      <td>32113</td>\n",
       "    </tr>\n",
       "    <tr>\n",
       "      <th>Distribution Channel</th>\n",
       "      <td>44328</td>\n",
       "      <td>2</td>\n",
       "      <td>Online</td>\n",
       "      <td>43572</td>\n",
       "    </tr>\n",
       "    <tr>\n",
       "      <th>Product Name</th>\n",
       "      <td>44328</td>\n",
       "      <td>26</td>\n",
       "      <td>Cancellation Plan</td>\n",
       "      <td>12979</td>\n",
       "    </tr>\n",
       "    <tr>\n",
       "      <th>Gender</th>\n",
       "      <td>12681</td>\n",
       "      <td>2</td>\n",
       "      <td>M</td>\n",
       "      <td>6504</td>\n",
       "    </tr>\n",
       "    <tr>\n",
       "      <th>Destination</th>\n",
       "      <td>44328</td>\n",
       "      <td>138</td>\n",
       "      <td>SINGAPORE</td>\n",
       "      <td>9267</td>\n",
       "    </tr>\n",
       "    <tr>\n",
       "      <th>Claim</th>\n",
       "      <td>44328</td>\n",
       "      <td>2</td>\n",
       "      <td>No</td>\n",
       "      <td>43651</td>\n",
       "    </tr>\n",
       "  </tbody>\n",
       "</table>\n",
       "</div>"
      ],
      "text/plain": [
       "                      count unique                top   freq\n",
       "Agency                44328     16                EPX  24656\n",
       "Agency Type           44328      2      Travel Agency  32113\n",
       "Distribution Channel  44328      2             Online  43572\n",
       "Product Name          44328     26  Cancellation Plan  12979\n",
       "Gender                12681      2                  M   6504\n",
       "Destination           44328    138          SINGAPORE   9267\n",
       "Claim                 44328      2                 No  43651"
      ]
     },
     "metadata": {},
     "output_type": "display_data"
    }
   ],
   "source": [
    "display(travel.describe(), travel.describe(include='O').T)"
   ]
  },
  {
   "cell_type": "markdown",
   "id": "6669d754",
   "metadata": {},
   "source": [
    "Dari dataset terlihat bahwa:\n",
    "* Dataset memiliki 44328 baris data serta 11 kolom     \n",
    "* Beberapa kolom yang bertipe numerik hanya Duration, Net Sales, Commision (in value), Age, selebihnya memiliki tipe kolom objective sehingga masih harus dilakukam preprocessing agar bisa dimasukkan kedalam pemodelan    \n",
    "* Target juga memiliki proporsi imbalance yang sangat tinggi yakni 98.5 % : 1.5 %\n",
    "* Dataset juga memiliki missing value yang cukup tinggi pada kolom Gender yang akan di drop saja karena tidak diperlukan pada pemodelan kali ini    \n",
    "* Pada dataset juga memiliki data duplikat, kita akan mendrop data duplikat dalam mengatasinya\n",
    "* Pada kolom Duration memiliki data aneh yakni durasi -1 yang dimana tidak mungkin juga melakukan perjalanan sehingga nanti akan di drop baris yang bernilai -1\n",
    "* Pada kolom net sales terdapat data sales yang bernilai negatif, disini masih masuk akal karena penjualan mungkin mengalami kerugian    \n",
    "* Pada kolom Age ada yang bernilai 0, disini juga masih masuk akal kerena yang bernilai 0 mungkin yang dimaksud adalah bayi yang belom genap 1 tahun, dan ada juga yang berusia 118 juga masih masuk akal menurut saya, sehingga akan dibiarkan saja."
   ]
  },
  {
   "cell_type": "markdown",
   "id": "f06c1513",
   "metadata": {},
   "source": [
    "## 2.2 Data Cleaning"
   ]
  },
  {
   "cell_type": "code",
   "execution_count": 10,
   "id": "ada52300",
   "metadata": {},
   "outputs": [],
   "source": [
    "# kita akan mendrop semua kolom gender\n",
    "travel.drop(columns=['Gender'], axis=1, inplace=True)"
   ]
  },
  {
   "cell_type": "code",
   "execution_count": 11,
   "id": "a04306e8",
   "metadata": {},
   "outputs": [],
   "source": [
    "# kita akan mendrop data tidak normal pada kolom duration\n",
    "not_normal=travel[travel['Duration']<0].index\n",
    "travel.drop(index=not_normal,inplace=True)"
   ]
  },
  {
   "cell_type": "code",
   "execution_count": 12,
   "id": "a6e7b400",
   "metadata": {},
   "outputs": [],
   "source": [
    "# kita akan mendrop data duplicate\n",
    "travel.drop_duplicates(inplace=True)"
   ]
  },
  {
   "cell_type": "markdown",
   "id": "df599002",
   "metadata": {},
   "source": [
    "## 2.3 Data After Cleaning"
   ]
  },
  {
   "cell_type": "code",
   "execution_count": 13,
   "id": "350c96eb",
   "metadata": {},
   "outputs": [
    {
     "data": {
      "text/html": [
       "<div>\n",
       "<style scoped>\n",
       "    .dataframe tbody tr th:only-of-type {\n",
       "        vertical-align: middle;\n",
       "    }\n",
       "\n",
       "    .dataframe tbody tr th {\n",
       "        vertical-align: top;\n",
       "    }\n",
       "\n",
       "    .dataframe thead th {\n",
       "        text-align: right;\n",
       "    }\n",
       "</style>\n",
       "<table border=\"1\" class=\"dataframe\">\n",
       "  <thead>\n",
       "    <tr style=\"text-align: right;\">\n",
       "      <th></th>\n",
       "      <th>Agency</th>\n",
       "      <th>Agency Type</th>\n",
       "      <th>Distribution Channel</th>\n",
       "      <th>Product Name</th>\n",
       "      <th>Duration</th>\n",
       "      <th>Destination</th>\n",
       "      <th>Net Sales</th>\n",
       "      <th>Commision (in value)</th>\n",
       "      <th>Age</th>\n",
       "      <th>Claim</th>\n",
       "    </tr>\n",
       "  </thead>\n",
       "  <tbody>\n",
       "    <tr>\n",
       "      <th>0</th>\n",
       "      <td>C2B</td>\n",
       "      <td>Airlines</td>\n",
       "      <td>Online</td>\n",
       "      <td>Annual Silver Plan</td>\n",
       "      <td>365</td>\n",
       "      <td>SINGAPORE</td>\n",
       "      <td>216.0</td>\n",
       "      <td>54.0</td>\n",
       "      <td>57</td>\n",
       "      <td>No</td>\n",
       "    </tr>\n",
       "    <tr>\n",
       "      <th>1</th>\n",
       "      <td>EPX</td>\n",
       "      <td>Travel Agency</td>\n",
       "      <td>Online</td>\n",
       "      <td>Cancellation Plan</td>\n",
       "      <td>4</td>\n",
       "      <td>MALAYSIA</td>\n",
       "      <td>10.0</td>\n",
       "      <td>0.0</td>\n",
       "      <td>33</td>\n",
       "      <td>No</td>\n",
       "    </tr>\n",
       "    <tr>\n",
       "      <th>2</th>\n",
       "      <td>JZI</td>\n",
       "      <td>Airlines</td>\n",
       "      <td>Online</td>\n",
       "      <td>Basic Plan</td>\n",
       "      <td>19</td>\n",
       "      <td>INDIA</td>\n",
       "      <td>22.0</td>\n",
       "      <td>7.7</td>\n",
       "      <td>26</td>\n",
       "      <td>No</td>\n",
       "    </tr>\n",
       "    <tr>\n",
       "      <th>3</th>\n",
       "      <td>EPX</td>\n",
       "      <td>Travel Agency</td>\n",
       "      <td>Online</td>\n",
       "      <td>2 way Comprehensive Plan</td>\n",
       "      <td>20</td>\n",
       "      <td>UNITED STATES</td>\n",
       "      <td>112.0</td>\n",
       "      <td>0.0</td>\n",
       "      <td>59</td>\n",
       "      <td>No</td>\n",
       "    </tr>\n",
       "    <tr>\n",
       "      <th>4</th>\n",
       "      <td>C2B</td>\n",
       "      <td>Airlines</td>\n",
       "      <td>Online</td>\n",
       "      <td>Bronze Plan</td>\n",
       "      <td>8</td>\n",
       "      <td>SINGAPORE</td>\n",
       "      <td>16.0</td>\n",
       "      <td>4.0</td>\n",
       "      <td>28</td>\n",
       "      <td>No</td>\n",
       "    </tr>\n",
       "  </tbody>\n",
       "</table>\n",
       "</div>"
      ],
      "text/plain": [
       "  Agency    Agency Type Distribution Channel              Product Name  \\\n",
       "0    C2B       Airlines               Online        Annual Silver Plan   \n",
       "1    EPX  Travel Agency               Online         Cancellation Plan   \n",
       "2    JZI       Airlines               Online                Basic Plan   \n",
       "3    EPX  Travel Agency               Online  2 way Comprehensive Plan   \n",
       "4    C2B       Airlines               Online               Bronze Plan   \n",
       "\n",
       "   Duration    Destination  Net Sales  Commision (in value)  Age Claim  \n",
       "0       365      SINGAPORE      216.0                  54.0   57    No  \n",
       "1         4       MALAYSIA       10.0                   0.0   33    No  \n",
       "2        19          INDIA       22.0                   7.7   26    No  \n",
       "3        20  UNITED STATES      112.0                   0.0   59    No  \n",
       "4         8      SINGAPORE       16.0                   4.0   28    No  "
      ]
     },
     "execution_count": 13,
     "metadata": {},
     "output_type": "execute_result"
    }
   ],
   "source": [
    "travel.head()"
   ]
  },
  {
   "cell_type": "code",
   "execution_count": 14,
   "id": "ffb32d47",
   "metadata": {},
   "outputs": [
    {
     "data": {
      "text/plain": [
       "(39322, 10)"
      ]
     },
     "execution_count": 14,
     "metadata": {},
     "output_type": "execute_result"
    }
   ],
   "source": [
    "travel.shape"
   ]
  },
  {
   "cell_type": "code",
   "execution_count": 15,
   "id": "36e678b8",
   "metadata": {},
   "outputs": [
    {
     "name": "stdout",
     "output_type": "stream",
     "text": [
      "<class 'pandas.core.frame.DataFrame'>\n",
      "Int64Index: 39322 entries, 0 to 44327\n",
      "Data columns (total 10 columns):\n",
      " #   Column                Non-Null Count  Dtype  \n",
      "---  ------                --------------  -----  \n",
      " 0   Agency                39322 non-null  object \n",
      " 1   Agency Type           39322 non-null  object \n",
      " 2   Distribution Channel  39322 non-null  object \n",
      " 3   Product Name          39322 non-null  object \n",
      " 4   Duration              39322 non-null  int64  \n",
      " 5   Destination           39322 non-null  object \n",
      " 6   Net Sales             39322 non-null  float64\n",
      " 7   Commision (in value)  39322 non-null  float64\n",
      " 8   Age                   39322 non-null  int64  \n",
      " 9   Claim                 39322 non-null  object \n",
      "dtypes: float64(2), int64(2), object(6)\n",
      "memory usage: 3.3+ MB\n"
     ]
    }
   ],
   "source": [
    "travel.info()"
   ]
  },
  {
   "cell_type": "code",
   "execution_count": 16,
   "id": "1e847d8d",
   "metadata": {},
   "outputs": [
    {
     "data": {
      "text/plain": [
       "Agency                  0\n",
       "Agency Type             0\n",
       "Distribution Channel    0\n",
       "Product Name            0\n",
       "Duration                0\n",
       "Destination             0\n",
       "Net Sales               0\n",
       "Commision (in value)    0\n",
       "Age                     0\n",
       "Claim                   0\n",
       "dtype: int64"
      ]
     },
     "execution_count": 16,
     "metadata": {},
     "output_type": "execute_result"
    }
   ],
   "source": [
    "travel.isna().sum()"
   ]
  },
  {
   "cell_type": "code",
   "execution_count": 17,
   "id": "24828aca",
   "metadata": {},
   "outputs": [
    {
     "data": {
      "text/html": [
       "<div>\n",
       "<style scoped>\n",
       "    .dataframe tbody tr th:only-of-type {\n",
       "        vertical-align: middle;\n",
       "    }\n",
       "\n",
       "    .dataframe tbody tr th {\n",
       "        vertical-align: top;\n",
       "    }\n",
       "\n",
       "    .dataframe thead th {\n",
       "        text-align: right;\n",
       "    }\n",
       "</style>\n",
       "<table border=\"1\" class=\"dataframe\">\n",
       "  <thead>\n",
       "    <tr style=\"text-align: right;\">\n",
       "      <th></th>\n",
       "      <th>Duration</th>\n",
       "      <th>Net Sales</th>\n",
       "      <th>Commision (in value)</th>\n",
       "      <th>Age</th>\n",
       "    </tr>\n",
       "  </thead>\n",
       "  <tbody>\n",
       "    <tr>\n",
       "      <th>count</th>\n",
       "      <td>39322.000000</td>\n",
       "      <td>39322.000000</td>\n",
       "      <td>39322.000000</td>\n",
       "      <td>39322.000000</td>\n",
       "    </tr>\n",
       "    <tr>\n",
       "      <th>mean</th>\n",
       "      <td>52.278699</td>\n",
       "      <td>42.203761</td>\n",
       "      <td>10.386397</td>\n",
       "      <td>39.829078</td>\n",
       "    </tr>\n",
       "    <tr>\n",
       "      <th>std</th>\n",
       "      <td>113.407179</td>\n",
       "      <td>49.704994</td>\n",
       "      <td>20.345772</td>\n",
       "      <td>13.214075</td>\n",
       "    </tr>\n",
       "    <tr>\n",
       "      <th>min</th>\n",
       "      <td>0.000000</td>\n",
       "      <td>-357.500000</td>\n",
       "      <td>0.000000</td>\n",
       "      <td>0.000000</td>\n",
       "    </tr>\n",
       "    <tr>\n",
       "      <th>25%</th>\n",
       "      <td>11.000000</td>\n",
       "      <td>19.000000</td>\n",
       "      <td>0.000000</td>\n",
       "      <td>35.000000</td>\n",
       "    </tr>\n",
       "    <tr>\n",
       "      <th>50%</th>\n",
       "      <td>25.000000</td>\n",
       "      <td>29.000000</td>\n",
       "      <td>0.000000</td>\n",
       "      <td>36.000000</td>\n",
       "    </tr>\n",
       "    <tr>\n",
       "      <th>75%</th>\n",
       "      <td>57.000000</td>\n",
       "      <td>50.000000</td>\n",
       "      <td>11.880000</td>\n",
       "      <td>44.000000</td>\n",
       "    </tr>\n",
       "    <tr>\n",
       "      <th>max</th>\n",
       "      <td>4881.000000</td>\n",
       "      <td>810.000000</td>\n",
       "      <td>283.500000</td>\n",
       "      <td>118.000000</td>\n",
       "    </tr>\n",
       "  </tbody>\n",
       "</table>\n",
       "</div>"
      ],
      "text/plain": [
       "           Duration     Net Sales  Commision (in value)           Age\n",
       "count  39322.000000  39322.000000          39322.000000  39322.000000\n",
       "mean      52.278699     42.203761             10.386397     39.829078\n",
       "std      113.407179     49.704994             20.345772     13.214075\n",
       "min        0.000000   -357.500000              0.000000      0.000000\n",
       "25%       11.000000     19.000000              0.000000     35.000000\n",
       "50%       25.000000     29.000000              0.000000     36.000000\n",
       "75%       57.000000     50.000000             11.880000     44.000000\n",
       "max     4881.000000    810.000000            283.500000    118.000000"
      ]
     },
     "metadata": {},
     "output_type": "display_data"
    },
    {
     "data": {
      "text/html": [
       "<div>\n",
       "<style scoped>\n",
       "    .dataframe tbody tr th:only-of-type {\n",
       "        vertical-align: middle;\n",
       "    }\n",
       "\n",
       "    .dataframe tbody tr th {\n",
       "        vertical-align: top;\n",
       "    }\n",
       "\n",
       "    .dataframe thead th {\n",
       "        text-align: right;\n",
       "    }\n",
       "</style>\n",
       "<table border=\"1\" class=\"dataframe\">\n",
       "  <thead>\n",
       "    <tr style=\"text-align: right;\">\n",
       "      <th></th>\n",
       "      <th>count</th>\n",
       "      <th>unique</th>\n",
       "      <th>top</th>\n",
       "      <th>freq</th>\n",
       "    </tr>\n",
       "  </thead>\n",
       "  <tbody>\n",
       "    <tr>\n",
       "      <th>Agency</th>\n",
       "      <td>39322</td>\n",
       "      <td>16</td>\n",
       "      <td>EPX</td>\n",
       "      <td>20990</td>\n",
       "    </tr>\n",
       "    <tr>\n",
       "      <th>Agency Type</th>\n",
       "      <td>39322</td>\n",
       "      <td>2</td>\n",
       "      <td>Travel Agency</td>\n",
       "      <td>28096</td>\n",
       "    </tr>\n",
       "    <tr>\n",
       "      <th>Distribution Channel</th>\n",
       "      <td>39322</td>\n",
       "      <td>2</td>\n",
       "      <td>Online</td>\n",
       "      <td>38611</td>\n",
       "    </tr>\n",
       "    <tr>\n",
       "      <th>Product Name</th>\n",
       "      <td>39322</td>\n",
       "      <td>26</td>\n",
       "      <td>Cancellation Plan</td>\n",
       "      <td>11009</td>\n",
       "    </tr>\n",
       "    <tr>\n",
       "      <th>Destination</th>\n",
       "      <td>39322</td>\n",
       "      <td>138</td>\n",
       "      <td>SINGAPORE</td>\n",
       "      <td>8106</td>\n",
       "    </tr>\n",
       "    <tr>\n",
       "      <th>Claim</th>\n",
       "      <td>39322</td>\n",
       "      <td>2</td>\n",
       "      <td>No</td>\n",
       "      <td>38649</td>\n",
       "    </tr>\n",
       "  </tbody>\n",
       "</table>\n",
       "</div>"
      ],
      "text/plain": [
       "                      count unique                top   freq\n",
       "Agency                39322     16                EPX  20990\n",
       "Agency Type           39322      2      Travel Agency  28096\n",
       "Distribution Channel  39322      2             Online  38611\n",
       "Product Name          39322     26  Cancellation Plan  11009\n",
       "Destination           39322    138          SINGAPORE   8106\n",
       "Claim                 39322      2                 No  38649"
      ]
     },
     "metadata": {},
     "output_type": "display_data"
    }
   ],
   "source": [
    "display(travel.describe(), travel.describe(include='O').T)"
   ]
  },
  {
   "cell_type": "markdown",
   "id": "6585931f",
   "metadata": {},
   "source": [
    "Data setelah di cleaning :\n",
    "* Dataset setelah dibersihkan memiliki jumlah 39322 baris data dan 10 kolom data\n",
    "* Semua data sudah terlihat normal\n",
    "* Dataset juga sudah tidak memiliki missing value "
   ]
  },
  {
   "cell_type": "markdown",
   "id": "c7fa6f83",
   "metadata": {},
   "source": [
    "## 2.4 Analysis Data\n",
    "\n",
    "### 2.4.1 Melihat Hubungan Antar Variabel Numerikal "
   ]
  },
  {
   "cell_type": "code",
   "execution_count": 18,
   "id": "96d6f980",
   "metadata": {},
   "outputs": [
    {
     "data": {
      "image/png": "[encoded data removed]",
      "text/plain": [
       "<Figure size 720x720 with 2 Axes>"
      ]
     },
     "metadata": {
      "needs_background": "light"
     },
     "output_type": "display_data"
    }
   ],
   "source": [
    "# Correlation Heatmap\n",
    "corr_mat = travel[['Duration','Net Sales', 'Commision (in value)', 'Age']].corr('spearman')\n",
    "mask = np.zeros_like(corr_mat)\n",
    "mask[np.triu_indices_from(mask)]=True\n",
    "\n",
    "plt.figure (figsize=(10,10))\n",
    "plt.title (\"Diagram Heatmap Korelasi antar-Fitur\", fontsize=15)\n",
    "sns.heatmap(corr_mat, annot = True, vmax=1, vmin=-1, mask=mask)\n",
    "\n",
    "plt.show()"
   ]
  },
  {
   "cell_type": "markdown",
   "id": "744a2f4c",
   "metadata": {},
   "source": [
    "Ada beberapa variabel yang memiki tingkat signifikansi kecil yang bernilai positif :\n",
    "* `Net Sales` dengan `Commision (in value)` yang dimana semakin besar nilai penjualan makan semakin tinggi komisi yang didapat \n",
    "* `Duration` dengan `Net Sales` yang dimana semakin lama seseorang melakukan perjalan juga akan semakin mahal harga asuransinya"
   ]
  },
  {
   "cell_type": "markdown",
   "id": "2af3c50b",
   "metadata": {},
   "source": [
    "### 2.4.2 Melihat Hubungan Antar Data Kategorikal"
   ]
  },
  {
   "cell_type": "code",
   "execution_count": 19,
   "id": "72c8d1e0",
   "metadata": {},
   "outputs": [
    {
     "name": "stdout",
     "output_type": "stream",
     "text": [
      "Uji Chi Squared pada Fitur Kategorik\n",
      "\n",
      "Claim               & Agency              dependen  , pval = 0.0\n",
      "Claim               & Agency Type         dependen  , pval = 0.0\n",
      "Claim               & Distribution Channel independen, pval = 0.84526\n",
      "Claim               & Product Name        dependen  , pval = 0.0\n",
      "Claim               & Destination         dependen  , pval = 0.0\n",
      "Agency              & Agency Type         dependen  , pval = 0.0\n",
      "Agency              & Distribution Channel dependen  , pval = 0.0\n",
      "Agency              & Product Name        dependen  , pval = 0.0\n",
      "Agency              & Destination         dependen  , pval = 0.0\n",
      "Agency Type         & Distribution Channel dependen  , pval = 0.0\n",
      "Agency Type         & Product Name        dependen  , pval = 0.0\n",
      "Agency Type         & Destination         dependen  , pval = 0.0\n",
      "Distribution Channel & Product Name        dependen  , pval = 0.0\n",
      "Distribution Channel & Destination         dependen  , pval = 0.0\n",
      "Product Name        & Destination         dependen  , pval = 0.0\n"
     ]
    }
   ],
   "source": [
    "# Melihat Correlation setiap fitur data kategorik\n",
    "print(\"Uji Chi Squared pada Fitur Kategorik\\n\")\n",
    "kategori = ['Claim','Agency', 'Agency Type', 'Distribution Channel', 'Product Name','Destination' ]\n",
    "test = []\n",
    "for i in kategori:\n",
    "    for j in kategori:\n",
    "        if i is not j and {i,j} not in test:\n",
    "            test.append({i,j})\n",
    "            pval = chi2_contingency(pd.crosstab(travel[i], travel[j]))[1]\n",
    "            \n",
    "            if pval <= 0.05:\n",
    "                print(f\"{i:19} & {j:19} dependen  , pval = {round(pval, 5)}\")\n",
    "            else:\n",
    "                print(f\"{i:19} & {j:19} independen, pval = {round(pval, 5)}\")"
   ]
  },
  {
   "cell_type": "code",
   "execution_count": 123,
   "id": "12bc0f78",
   "metadata": {},
   "outputs": [
    {
     "data": {
      "text/plain": [
       "Claim\n",
       "No     38649\n",
       "Yes      673\n",
       "Name: Distribution Channel, dtype: int64"
      ]
     },
     "execution_count": 123,
     "metadata": {},
     "output_type": "execute_result"
    }
   ],
   "source": [
    "travel['Distribution Channel'].groupby(travel['Claim']).count()"
   ]
  },
  {
   "cell_type": "markdown",
   "id": "5c6bbc0b",
   "metadata": {},
   "source": [
    "* Terlihat bahwa semua variabel dependen terhadap Claim dan juga satu sama lain kecuali `Claim` dengan `Distribution Channel`   \n",
    "* Setelah dilihat kembali ternyata propori target bernilai 1 pada kolom claim cukup banyak maka kita akan tetap memasukkan kolom `Distribution Channel` sebagai Feature"
   ]
  },
  {
   "cell_type": "markdown",
   "id": "afdb9b03",
   "metadata": {},
   "source": [
    "# 3. Modelling"
   ]
  },
  {
   "cell_type": "markdown",
   "id": "4f771682",
   "metadata": {},
   "source": [
    "## 3.1 Data Preparation "
   ]
  },
  {
   "cell_type": "markdown",
   "id": "be7153b9",
   "metadata": {},
   "source": [
    "Semua variabel akan digunakan sebagai Feature"
   ]
  },
  {
   "cell_type": "code",
   "execution_count": 124,
   "id": "52137301",
   "metadata": {},
   "outputs": [],
   "source": [
    "x=travel.drop(columns = ['Claim'])\n",
    "y=np.where(travel['Claim']=='Yes',1,0)"
   ]
  },
  {
   "cell_type": "markdown",
   "id": "04ef7023",
   "metadata": {},
   "source": [
    "### 3.1.1 Data Preprocessing"
   ]
  },
  {
   "cell_type": "markdown",
   "id": "bbe0b203",
   "metadata": {},
   "source": [
    "Beberapa data yang masih bertipe kategorikal akan dilakukan Encoding agar bisa dimasukkan kedalam pemodelan"
   ]
  },
  {
   "cell_type": "code",
   "execution_count": 130,
   "id": "7602fea7",
   "metadata": {},
   "outputs": [],
   "source": [
    "tf = ColumnTransformer([\n",
    "    ('onehot', OneHotEncoder(drop='first'),['Agency Type','Distribution Channel']),\n",
    "    ('binary', ce.BinaryEncoder(),['Product Name', 'Destination','Agency'])\n",
    "], remainder='passthrough')"
   ]
  },
  {
   "cell_type": "markdown",
   "id": "290e4c1c",
   "metadata": {},
   "source": [
    "### 3.1.2 Data Splitting"
   ]
  },
  {
   "cell_type": "code",
   "execution_count": 131,
   "id": "9184fdef",
   "metadata": {},
   "outputs": [],
   "source": [
    "x_train, x_test, y_train, y_test = train_test_split (x, y,\n",
    "                                                    stratify=y,\n",
    "                                                    test_size = 0.3,\n",
    "                                                    random_state= 2020)"
   ]
  },
  {
   "cell_type": "markdown",
   "id": "8384c695",
   "metadata": {},
   "source": [
    "## 3.2 Modelling "
   ]
  },
  {
   "cell_type": "code",
   "execution_count": 132,
   "id": "c02b8dc7",
   "metadata": {},
   "outputs": [],
   "source": [
    "# Menentukan model yang akan digunakan\n",
    "logreg = LogisticRegression(random_state=2020)\n",
    "tree = DecisionTreeClassifier(max_depth=5,random_state=2020)\n",
    "knn = KNeighborsClassifier()\n",
    "rf = RandomForestClassifier(max_depth=5,random_state=2020)\n",
    "xgb = XGBClassifier(max_depth=5,random_state=2020)"
   ]
  },
  {
   "cell_type": "markdown",
   "id": "5192251c",
   "metadata": {},
   "source": [
    "Saya Memilih 5 Model untuk Dilakukan Cross Validasi \n",
    "1. Logistic Regression \n",
    "2. Decision Tree\n",
    "3. K-Nearest Neighbour\n",
    "4. Random Forest\n",
    "5. XGBoost\n",
    "\n",
    "Saya menambahkan parameter yakni :\n",
    "* Random state bernilai 2020 agar hasil pengacakan tidak berbeda.\n",
    "* Max Depth bernilai 5 agar tidak terjadi overfit pada model yang memiliki base Decision Tree"
   ]
  },
  {
   "cell_type": "code",
   "execution_count": 133,
   "id": "f9c6ca5f",
   "metadata": {},
   "outputs": [],
   "source": [
    "# Melakukan Cross Validation terhadap model\n",
    "\n",
    "# Metode Cross validasi\n",
    "skfold = StratifiedKFold(n_splits=5)\n",
    "\n",
    "# Model yang digunakan\n",
    "models = [logreg, tree, knn, rf, xgb]\n",
    "name = ['Logistic Regression', 'Decision Tree', 'KNN', 'Random Forest', 'XGBoost']\n",
    "\n",
    "# Scorer yangn digunakan\n",
    "scorer = {\n",
    "    'Precision' : 'precision',\n",
    "    'Recall' : 'recall',\n",
    "    'F1' : 'f1',\n",
    "}"
   ]
  },
  {
   "cell_type": "markdown",
   "id": "a52305f8",
   "metadata": {},
   "source": [
    "### 3.2.1 Menentukan Model Benchmark"
   ]
  },
  {
   "cell_type": "code",
   "execution_count": 134,
   "id": "e75a6924",
   "metadata": {},
   "outputs": [],
   "source": [
    "# precision\n",
    "score_pr = []\n",
    "mean_pr = []\n",
    "std_pr = []\n",
    "\n",
    "# recall\n",
    "score_rc = []\n",
    "mean_rc = []\n",
    "std_rc = []\n",
    "\n",
    "# f1 score\n",
    "score_f1 = []\n",
    "mean_f1 = []\n",
    "std_f1 = []\n",
    "\n",
    "for i in models :\n",
    "    estimator = Pipeline ([\n",
    "        ('preprocess', tf),\n",
    "        ('model', i)\n",
    "    ])\n",
    "    \n",
    "    model_precision = cross_val_score(estimator,\n",
    "                                      x_train, y_train,\n",
    "                                      cv = skfold,\n",
    "                                      scoring = 'precision')\n",
    "    score_pr.append (model_precision)\n",
    "    mean_pr.append (model_precision.mean())\n",
    "    std_pr.append (model_precision.std())\n",
    "    \n",
    "    model_recall = cross_val_score(estimator,\n",
    "                                   x_train, y_train,\n",
    "                                   cv = skfold,\n",
    "                                   scoring = 'recall')\n",
    "    score_rc.append (model_recall)\n",
    "    mean_rc.append (model_recall.mean())\n",
    "    std_rc.append (model_recall.std())\n",
    "    \n",
    "    model_f1 = cross_val_score(estimator,\n",
    "                               x_train, y_train,\n",
    "                               cv = skfold,\n",
    "                               scoring = 'f1')\n",
    "    score_f1.append (model_f1)\n",
    "    mean_f1.append (model_f1.mean())\n",
    "    std_f1.append (model_f1.std())"
   ]
  },
  {
   "cell_type": "code",
   "execution_count": 135,
   "id": "b99dd972",
   "metadata": {
    "scrolled": true
   },
   "outputs": [
    {
     "data": {
      "text/html": [
       "<div>\n",
       "<style scoped>\n",
       "    .dataframe tbody tr th:only-of-type {\n",
       "        vertical-align: middle;\n",
       "    }\n",
       "\n",
       "    .dataframe tbody tr th {\n",
       "        vertical-align: top;\n",
       "    }\n",
       "\n",
       "    .dataframe thead th {\n",
       "        text-align: right;\n",
       "    }\n",
       "</style>\n",
       "<table border=\"1\" class=\"dataframe\">\n",
       "  <thead>\n",
       "    <tr style=\"text-align: right;\">\n",
       "      <th></th>\n",
       "      <th>Mean Precision</th>\n",
       "      <th>Std Precision</th>\n",
       "      <th>Mean Recall</th>\n",
       "      <th>Std Recall</th>\n",
       "      <th>Mean F1</th>\n",
       "      <th>Std F1</th>\n",
       "    </tr>\n",
       "  </thead>\n",
       "  <tbody>\n",
       "    <tr>\n",
       "      <th>Logistic Regression</th>\n",
       "      <td>0.000000</td>\n",
       "      <td>0.000000</td>\n",
       "      <td>0.000000</td>\n",
       "      <td>0.000000</td>\n",
       "      <td>0.000000</td>\n",
       "      <td>0.000000</td>\n",
       "    </tr>\n",
       "    <tr>\n",
       "      <th>Decision Tree</th>\n",
       "      <td>0.000000</td>\n",
       "      <td>0.000000</td>\n",
       "      <td>0.000000</td>\n",
       "      <td>0.000000</td>\n",
       "      <td>0.000000</td>\n",
       "      <td>0.000000</td>\n",
       "    </tr>\n",
       "    <tr>\n",
       "      <th>KNN</th>\n",
       "      <td>0.150000</td>\n",
       "      <td>0.133333</td>\n",
       "      <td>0.006361</td>\n",
       "      <td>0.005194</td>\n",
       "      <td>0.012163</td>\n",
       "      <td>0.009932</td>\n",
       "    </tr>\n",
       "    <tr>\n",
       "      <th>Random Forest</th>\n",
       "      <td>0.000000</td>\n",
       "      <td>0.000000</td>\n",
       "      <td>0.000000</td>\n",
       "      <td>0.000000</td>\n",
       "      <td>0.000000</td>\n",
       "      <td>0.000000</td>\n",
       "    </tr>\n",
       "    <tr>\n",
       "      <th>XGBoost</th>\n",
       "      <td>0.152222</td>\n",
       "      <td>0.154264</td>\n",
       "      <td>0.010594</td>\n",
       "      <td>0.009465</td>\n",
       "      <td>0.019731</td>\n",
       "      <td>0.017726</td>\n",
       "    </tr>\n",
       "  </tbody>\n",
       "</table>\n",
       "</div>"
      ],
      "text/plain": [
       "                     Mean Precision  Std Precision  Mean Recall  Std Recall  \\\n",
       "Logistic Regression        0.000000       0.000000     0.000000    0.000000   \n",
       "Decision Tree              0.000000       0.000000     0.000000    0.000000   \n",
       "KNN                        0.150000       0.133333     0.006361    0.005194   \n",
       "Random Forest              0.000000       0.000000     0.000000    0.000000   \n",
       "XGBoost                    0.152222       0.154264     0.010594    0.009465   \n",
       "\n",
       "                      Mean F1    Std F1  \n",
       "Logistic Regression  0.000000  0.000000  \n",
       "Decision Tree        0.000000  0.000000  \n",
       "KNN                  0.012163  0.009932  \n",
       "Random Forest        0.000000  0.000000  \n",
       "XGBoost              0.019731  0.017726  "
      ]
     },
     "execution_count": 135,
     "metadata": {},
     "output_type": "execute_result"
    }
   ],
   "source": [
    "pd.DataFrame ({\n",
    "    'Mean Precision' : mean_pr,\n",
    "    'Std Precision' : std_pr,\n",
    "    'Mean Recall' : mean_rc,\n",
    "    'Std Recall': std_rc,\n",
    "    'Mean F1' : mean_f1,\n",
    "    'Std F1': std_f1\n",
    "}, index = name)"
   ]
  },
  {
   "cell_type": "markdown",
   "id": "ee57da15",
   "metadata": {},
   "source": [
    "Dari Hasil Cross Validasi Tertinggi di dapat model KNN dan XGBoost memiliki nilai f1 tertinggim"
   ]
  },
  {
   "cell_type": "code",
   "execution_count": 136,
   "id": "f96b1dc9",
   "metadata": {},
   "outputs": [
    {
     "name": "stdout",
     "output_type": "stream",
     "text": [
      "Precision  0.16666666666666666\n",
      "Recall  0.0049504950495049506\n",
      "F1 Score 0.009615384615384616\n",
      "              precision    recall  f1-score   support\n",
      "\n",
      "           0       0.98      1.00      0.99     11595\n",
      "           1       0.17      0.00      0.01       202\n",
      "\n",
      "    accuracy                           0.98     11797\n",
      "   macro avg       0.57      0.50      0.50     11797\n",
      "weighted avg       0.97      0.98      0.97     11797\n",
      "\n"
     ]
    }
   ],
   "source": [
    "# Test KNN with data test\n",
    "estimator = Pipeline ([\n",
    "        ('preprocess', tf),\n",
    "        ('model', knn)\n",
    "    ])\n",
    "estimator.fit (x_train, y_train)\n",
    "y_pred = estimator.predict (x_test)\n",
    "\n",
    "print ('Precision ', precision_score(y_test, y_pred))\n",
    "print ('Recall ', recall_score(y_test, y_pred))\n",
    "print ('F1 Score', f1_score(y_test,y_pred))\n",
    "print(classification_report(y_test,y_pred))"
   ]
  },
  {
   "cell_type": "code",
   "execution_count": 137,
   "id": "7edb341d",
   "metadata": {},
   "outputs": [
    {
     "name": "stdout",
     "output_type": "stream",
     "text": [
      "Precision  0.3333333333333333\n",
      "Recall  0.0049504950495049506\n",
      "F1 score  0.00975609756097561\n",
      "              precision    recall  f1-score   support\n",
      "\n",
      "           0       0.98      1.00      0.99     11595\n",
      "           1       0.33      0.00      0.01       202\n",
      "\n",
      "    accuracy                           0.98     11797\n",
      "   macro avg       0.66      0.50      0.50     11797\n",
      "weighted avg       0.97      0.98      0.97     11797\n",
      "\n"
     ]
    }
   ],
   "source": [
    "# Test XGBoost with data test\n",
    "estimator = Pipeline ([\n",
    "        ('preprocess', tf),\n",
    "        ('model', xgb)\n",
    "    ])\n",
    "estimator.fit (x_train, y_train)\n",
    "y_pred = estimator.predict (x_test)\n",
    "\n",
    "print ('Precision ', precision_score(y_test, y_pred))\n",
    "print ('Recall ', recall_score(y_test, y_pred))\n",
    "print ('F1 score ', f1_score(y_test, y_pred))\n",
    "print(classification_report(y_test,y_pred))"
   ]
  },
  {
   "cell_type": "markdown",
   "id": "4c6eda85",
   "metadata": {},
   "source": [
    "### 3.2.1 Balancing Models\n",
    "Dari hasil Cross validasi Tidak ada model yang bisa di ambil oleh karena itu kita akan mencoba untuk melakukan Resampling.\n",
    "\n",
    "Jenis Resampling yang akan kita gunakan yaitu RandomOverSampling, RandomUnderSampling,SMOTE"
   ]
  },
  {
   "cell_type": "code",
   "execution_count": 138,
   "id": "b0560e6e",
   "metadata": {},
   "outputs": [],
   "source": [
    "rus = RandomUnderSampler(random_state=2020)\n",
    "ros = RandomOverSampler(random_state=2020)\n",
    "smote= SMOTE(random_state=2020)"
   ]
  },
  {
   "cell_type": "code",
   "execution_count": 139,
   "id": "0fa1ec13",
   "metadata": {},
   "outputs": [],
   "source": [
    "models = [['logreg',logreg], ['knn',knn], ['tree',tree],['rf',rf],['xgb',xgb]]\n",
    "resampling = [['Undersampling',rus], ['Oversampling',ros], ['smote', smote]]\n",
    "model_names=[]\n",
    "recall_scorer=[]\n",
    "precision_scorer=[]\n",
    "f1_scorer=[]\n",
    "\n",
    "for i in models:\n",
    "    for j in resampling:\n",
    "        estimators= Pipeline([\n",
    "            ('preproses', tf),\n",
    "            ('resampling', j[1] ),\n",
    "            ('model', i[1]),\n",
    "        ]) \n",
    "        estimators.fit(x_train, y_train)\n",
    "        y_pred2=estimators.predict(x_test)\n",
    "        model_names.append(i[0]+\" \"+j[0])\n",
    "        recall_scorer.append(recall_score(y_test,y_pred2))\n",
    "        precision_scorer.append(precision_score(y_test,y_pred2))\n",
    "        f1_scorer.append(f1_score(y_test,y_pred2))"
   ]
  },
  {
   "cell_type": "code",
   "execution_count": 140,
   "id": "6eb0c9ee",
   "metadata": {},
   "outputs": [
    {
     "data": {
      "text/html": [
       "<div>\n",
       "<style scoped>\n",
       "    .dataframe tbody tr th:only-of-type {\n",
       "        vertical-align: middle;\n",
       "    }\n",
       "\n",
       "    .dataframe tbody tr th {\n",
       "        vertical-align: top;\n",
       "    }\n",
       "\n",
       "    .dataframe thead th {\n",
       "        text-align: right;\n",
       "    }\n",
       "</style>\n",
       "<table border=\"1\" class=\"dataframe\">\n",
       "  <thead>\n",
       "    <tr style=\"text-align: right;\">\n",
       "      <th></th>\n",
       "      <th>Model</th>\n",
       "      <th>Recall Score</th>\n",
       "      <th>Precision Score</th>\n",
       "      <th>F1 Score</th>\n",
       "    </tr>\n",
       "  </thead>\n",
       "  <tbody>\n",
       "    <tr>\n",
       "      <th>0</th>\n",
       "      <td>knn Undersampling</td>\n",
       "      <td>0.673267</td>\n",
       "      <td>0.031813</td>\n",
       "      <td>0.060755</td>\n",
       "    </tr>\n",
       "    <tr>\n",
       "      <th>1</th>\n",
       "      <td>xgb smote</td>\n",
       "      <td>0.059406</td>\n",
       "      <td>0.071429</td>\n",
       "      <td>0.064865</td>\n",
       "    </tr>\n",
       "    <tr>\n",
       "      <th>2</th>\n",
       "      <td>xgb Undersampling</td>\n",
       "      <td>0.663366</td>\n",
       "      <td>0.040829</td>\n",
       "      <td>0.076923</td>\n",
       "    </tr>\n",
       "    <tr>\n",
       "      <th>3</th>\n",
       "      <td>knn smote</td>\n",
       "      <td>0.371287</td>\n",
       "      <td>0.046182</td>\n",
       "      <td>0.082147</td>\n",
       "    </tr>\n",
       "    <tr>\n",
       "      <th>4</th>\n",
       "      <td>tree Undersampling</td>\n",
       "      <td>0.717822</td>\n",
       "      <td>0.043648</td>\n",
       "      <td>0.082293</td>\n",
       "    </tr>\n",
       "    <tr>\n",
       "      <th>5</th>\n",
       "      <td>tree smote</td>\n",
       "      <td>0.683168</td>\n",
       "      <td>0.044951</td>\n",
       "      <td>0.084352</td>\n",
       "    </tr>\n",
       "    <tr>\n",
       "      <th>6</th>\n",
       "      <td>logreg Undersampling</td>\n",
       "      <td>0.658416</td>\n",
       "      <td>0.046005</td>\n",
       "      <td>0.086001</td>\n",
       "    </tr>\n",
       "    <tr>\n",
       "      <th>7</th>\n",
       "      <td>logreg Oversampling</td>\n",
       "      <td>0.638614</td>\n",
       "      <td>0.048588</td>\n",
       "      <td>0.090305</td>\n",
       "    </tr>\n",
       "    <tr>\n",
       "      <th>8</th>\n",
       "      <td>knn Oversampling</td>\n",
       "      <td>0.163366</td>\n",
       "      <td>0.064327</td>\n",
       "      <td>0.092308</td>\n",
       "    </tr>\n",
       "    <tr>\n",
       "      <th>9</th>\n",
       "      <td>logreg smote</td>\n",
       "      <td>0.638614</td>\n",
       "      <td>0.050195</td>\n",
       "      <td>0.093074</td>\n",
       "    </tr>\n",
       "    <tr>\n",
       "      <th>10</th>\n",
       "      <td>rf Undersampling</td>\n",
       "      <td>0.638614</td>\n",
       "      <td>0.053174</td>\n",
       "      <td>0.098174</td>\n",
       "    </tr>\n",
       "    <tr>\n",
       "      <th>11</th>\n",
       "      <td>tree Oversampling</td>\n",
       "      <td>0.603960</td>\n",
       "      <td>0.057765</td>\n",
       "      <td>0.105445</td>\n",
       "    </tr>\n",
       "    <tr>\n",
       "      <th>12</th>\n",
       "      <td>xgb Oversampling</td>\n",
       "      <td>0.341584</td>\n",
       "      <td>0.064007</td>\n",
       "      <td>0.107813</td>\n",
       "    </tr>\n",
       "    <tr>\n",
       "      <th>13</th>\n",
       "      <td>rf Oversampling</td>\n",
       "      <td>0.623762</td>\n",
       "      <td>0.063604</td>\n",
       "      <td>0.115437</td>\n",
       "    </tr>\n",
       "    <tr>\n",
       "      <th>14</th>\n",
       "      <td>rf smote</td>\n",
       "      <td>0.564356</td>\n",
       "      <td>0.071205</td>\n",
       "      <td>0.126456</td>\n",
       "    </tr>\n",
       "  </tbody>\n",
       "</table>\n",
       "</div>"
      ],
      "text/plain": [
       "                   Model  Recall Score  Precision Score  F1 Score\n",
       "0      knn Undersampling      0.673267         0.031813  0.060755\n",
       "1              xgb smote      0.059406         0.071429  0.064865\n",
       "2      xgb Undersampling      0.663366         0.040829  0.076923\n",
       "3              knn smote      0.371287         0.046182  0.082147\n",
       "4     tree Undersampling      0.717822         0.043648  0.082293\n",
       "5             tree smote      0.683168         0.044951  0.084352\n",
       "6   logreg Undersampling      0.658416         0.046005  0.086001\n",
       "7    logreg Oversampling      0.638614         0.048588  0.090305\n",
       "8       knn Oversampling      0.163366         0.064327  0.092308\n",
       "9           logreg smote      0.638614         0.050195  0.093074\n",
       "10      rf Undersampling      0.638614         0.053174  0.098174\n",
       "11     tree Oversampling      0.603960         0.057765  0.105445\n",
       "12      xgb Oversampling      0.341584         0.064007  0.107813\n",
       "13       rf Oversampling      0.623762         0.063604  0.115437\n",
       "14              rf smote      0.564356         0.071205  0.126456"
      ]
     },
     "execution_count": 140,
     "metadata": {},
     "output_type": "execute_result"
    }
   ],
   "source": [
    "pd.DataFrame({\n",
    "    'Model': model_names,\n",
    "    'Recall Score' : recall_scorer,\n",
    "    'Precision Score' : precision_scorer,\n",
    "    'F1 Score' : f1_scorer,\n",
    "}).sort_values('F1 Score').reset_index(drop=True)"
   ]
  },
  {
   "cell_type": "markdown",
   "id": "f556f655",
   "metadata": {},
   "source": [
    "Kita akan mengambil hasil resampling dari 2 model terbaik"
   ]
  },
  {
   "cell_type": "code",
   "execution_count": 141,
   "id": "40483ff2",
   "metadata": {},
   "outputs": [
    {
     "name": "stdout",
     "output_type": "stream",
     "text": [
      "Precision  0.03181286549707602\n",
      "Recall  0.6732673267326733\n",
      "F1 score  0.06075496984587893\n",
      "              precision    recall  f1-score   support\n",
      "\n",
      "           0       0.99      0.64      0.78     11595\n",
      "           1       0.03      0.67      0.06       202\n",
      "\n",
      "    accuracy                           0.64     11797\n",
      "   macro avg       0.51      0.66      0.42     11797\n",
      "weighted avg       0.97      0.64      0.77     11797\n",
      "\n"
     ]
    }
   ],
   "source": [
    "# Kita akan mencoba KNN Under Sampling Pada Data Test\n",
    "model_knn_under = Pipeline ([\n",
    "    ('preprocess', tf),\n",
    "    ('resampling',rus),\n",
    "    ('model', knn)\n",
    "    ])\n",
    "model_knn_under.fit (x_train, y_train)\n",
    "y_pred = model_knn_under.predict (x_test)\n",
    "\n",
    "print ('Precision ', precision_score(y_test, y_pred))\n",
    "print ('Recall ', recall_score(y_test, y_pred))\n",
    "print ('F1 score ', f1_score(y_test, y_pred))\n",
    "print(classification_report(y_test,y_pred))"
   ]
  },
  {
   "cell_type": "code",
   "execution_count": 142,
   "id": "ccd08e8a",
   "metadata": {},
   "outputs": [
    {
     "name": "stdout",
     "output_type": "stream",
     "text": [
      "Precision  0.07142857142857142\n",
      "Recall  0.0594059405940594\n",
      "F1 score  0.06486486486486487\n",
      "              precision    recall  f1-score   support\n",
      "\n",
      "           0       0.98      0.99      0.99     11595\n",
      "           1       0.07      0.06      0.06       202\n",
      "\n",
      "    accuracy                           0.97     11797\n",
      "   macro avg       0.53      0.52      0.52     11797\n",
      "weighted avg       0.97      0.97      0.97     11797\n",
      "\n"
     ]
    }
   ],
   "source": [
    "# Kita akan mencoba XGBoost SMOTE Pada Data Test\n",
    "model_xgb_smote = Pipeline ([\n",
    "    ('preprocess', tf),\n",
    "    ('resampling',smote),\n",
    "    ('model', xgb)\n",
    "    ])\n",
    "model_xgb_smote.fit (x_train, y_train)\n",
    "y_pred = model_xgb_smote.predict (x_test)\n",
    "\n",
    "print ('Precision ', precision_score(y_test, y_pred))\n",
    "print ('Recall ', recall_score(y_test, y_pred))\n",
    "print ('F1 score ', f1_score(y_test, y_pred))\n",
    "print(classification_report(y_test,y_pred))"
   ]
  },
  {
   "cell_type": "markdown",
   "id": "93d97490",
   "metadata": {},
   "source": [
    "### 3.2.2 Tuning Models"
   ]
  },
  {
   "cell_type": "markdown",
   "id": "3e33301d",
   "metadata": {},
   "source": [
    "#### KNN Under Sampling"
   ]
  },
  {
   "cell_type": "code",
   "execution_count": 143,
   "id": "58b1b485",
   "metadata": {
    "scrolled": true
   },
   "outputs": [
    {
     "data": {
      "text/plain": [
       "{'memory': None,\n",
       " 'steps': [('preprocess',\n",
       "   ColumnTransformer(remainder='passthrough',\n",
       "                     transformers=[('onehot', OneHotEncoder(drop='first'),\n",
       "                                    ['Agency Type', 'Distribution Channel']),\n",
       "                                   ('binary', BinaryEncoder(),\n",
       "                                    ['Product Name', 'Destination', 'Agency'])])),\n",
       "  ('resampling', RandomUnderSampler(random_state=2020)),\n",
       "  ('model', KNeighborsClassifier())],\n",
       " 'verbose': False,\n",
       " 'preprocess': ColumnTransformer(remainder='passthrough',\n",
       "                   transformers=[('onehot', OneHotEncoder(drop='first'),\n",
       "                                  ['Agency Type', 'Distribution Channel']),\n",
       "                                 ('binary', BinaryEncoder(),\n",
       "                                  ['Product Name', 'Destination', 'Agency'])]),\n",
       " 'resampling': RandomUnderSampler(random_state=2020),\n",
       " 'model': KNeighborsClassifier(),\n",
       " 'preprocess__n_jobs': None,\n",
       " 'preprocess__remainder': 'passthrough',\n",
       " 'preprocess__sparse_threshold': 0.3,\n",
       " 'preprocess__transformer_weights': None,\n",
       " 'preprocess__transformers': [('onehot',\n",
       "   OneHotEncoder(drop='first'),\n",
       "   ['Agency Type', 'Distribution Channel']),\n",
       "  ('binary', BinaryEncoder(), ['Product Name', 'Destination', 'Agency'])],\n",
       " 'preprocess__verbose': False,\n",
       " 'preprocess__verbose_feature_names_out': True,\n",
       " 'preprocess__onehot': OneHotEncoder(drop='first'),\n",
       " 'preprocess__binary': BinaryEncoder(),\n",
       " 'preprocess__onehot__categories': 'auto',\n",
       " 'preprocess__onehot__drop': 'first',\n",
       " 'preprocess__onehot__dtype': numpy.float64,\n",
       " 'preprocess__onehot__handle_unknown': 'error',\n",
       " 'preprocess__onehot__max_categories': None,\n",
       " 'preprocess__onehot__min_frequency': None,\n",
       " 'preprocess__onehot__sparse': True,\n",
       " 'preprocess__binary__base': 2,\n",
       " 'preprocess__binary__cols': None,\n",
       " 'preprocess__binary__drop_invariant': False,\n",
       " 'preprocess__binary__handle_missing': 'value',\n",
       " 'preprocess__binary__handle_unknown': 'value',\n",
       " 'preprocess__binary__mapping': None,\n",
       " 'preprocess__binary__return_df': True,\n",
       " 'preprocess__binary__verbose': 0,\n",
       " 'resampling__random_state': 2020,\n",
       " 'resampling__replacement': False,\n",
       " 'resampling__sampling_strategy': 'auto',\n",
       " 'model__algorithm': 'auto',\n",
       " 'model__leaf_size': 30,\n",
       " 'model__metric': 'minkowski',\n",
       " 'model__metric_params': None,\n",
       " 'model__n_jobs': None,\n",
       " 'model__n_neighbors': 5,\n",
       " 'model__p': 2,\n",
       " 'model__weights': 'uniform'}"
      ]
     },
     "execution_count": 143,
     "metadata": {},
     "output_type": "execute_result"
    }
   ],
   "source": [
    "model_knn_under.get_params()"
   ]
  },
  {
   "cell_type": "code",
   "execution_count": 144,
   "id": "79355087",
   "metadata": {},
   "outputs": [],
   "source": [
    "hyperparam_space={'model__weights':['uniform','distance'],\n",
    "                  'model__n_neighbors':[1,5,25,100],\n",
    "                  'model__algorithm': ['auto','ball_tree','kd_tree','brute'],\n",
    "                  'model__leaf_size': [30,60,90]\n",
    "                 }"
   ]
  },
  {
   "cell_type": "code",
   "execution_count": 145,
   "id": "49572c1e",
   "metadata": {},
   "outputs": [],
   "source": [
    "skfold = StratifiedKFold(n_splits=5)\n",
    "knn = KNeighborsClassifier()\n",
    "grid_knn = GridSearchCV(model_knn_under,\n",
    "                        param_grid = hyperparam_space,\n",
    "                        cv = skfold,\n",
    "                        scoring = 'f1',\n",
    "                        n_jobs=-1)"
   ]
  },
  {
   "cell_type": "code",
   "execution_count": 146,
   "id": "b7f94153",
   "metadata": {},
   "outputs": [
    {
     "data": {
      "text/html": [
       "<style>#sk-container-id-3 {color: black;background-color: white;}#sk-container-id-3 pre{padding: 0;}#sk-container-id-3 div.sk-toggleable {background-color: white;}#sk-container-id-3 label.sk-toggleable__label {cursor: pointer;display: block;width: 100%;margin-bottom: 0;padding: 0.3em;box-sizing: border-box;text-align: center;}#sk-container-id-3 label.sk-toggleable__label-arrow:before {content: \"▸\";float: left;margin-right: 0.25em;color: #696969;}#sk-container-id-3 label.sk-toggleable__label-arrow:hover:before {color: black;}#sk-container-id-3 div.sk-estimator:hover label.sk-toggleable__label-arrow:before {color: black;}#sk-container-id-3 div.sk-toggleable__content {max-height: 0;max-width: 0;overflow: hidden;text-align: left;background-color: #f0f8ff;}#sk-container-id-3 div.sk-toggleable__content pre {margin: 0.2em;color: black;border-radius: 0.25em;background-color: #f0f8ff;}#sk-container-id-3 input.sk-toggleable__control:checked~div.sk-toggleable__content {max-height: 200px;max-width: 100%;overflow: auto;}#sk-container-id-3 input.sk-toggleable__control:checked~label.sk-toggleable__label-arrow:before {content: \"▾\";}#sk-container-id-3 div.sk-estimator input.sk-toggleable__control:checked~label.sk-toggleable__label {background-color: #d4ebff;}#sk-container-id-3 div.sk-label input.sk-toggleable__control:checked~label.sk-toggleable__label {background-color: #d4ebff;}#sk-container-id-3 input.sk-hidden--visually {border: 0;clip: rect(1px 1px 1px 1px);clip: rect(1px, 1px, 1px, 1px);height: 1px;margin: -1px;overflow: hidden;padding: 0;position: absolute;width: 1px;}#sk-container-id-3 div.sk-estimator {font-family: monospace;background-color: #f0f8ff;border: 1px dotted black;border-radius: 0.25em;box-sizing: border-box;margin-bottom: 0.5em;}#sk-container-id-3 div.sk-estimator:hover {background-color: #d4ebff;}#sk-container-id-3 div.sk-parallel-item::after {content: \"\";width: 100%;border-bottom: 1px solid gray;flex-grow: 1;}#sk-container-id-3 div.sk-label:hover label.sk-toggleable__label {background-color: #d4ebff;}#sk-container-id-3 div.sk-serial::before {content: \"\";position: absolute;border-left: 1px solid gray;box-sizing: border-box;top: 0;bottom: 0;left: 50%;z-index: 0;}#sk-container-id-3 div.sk-serial {display: flex;flex-direction: column;align-items: center;background-color: white;padding-right: 0.2em;padding-left: 0.2em;position: relative;}#sk-container-id-3 div.sk-item {position: relative;z-index: 1;}#sk-container-id-3 div.sk-parallel {display: flex;align-items: stretch;justify-content: center;background-color: white;position: relative;}#sk-container-id-3 div.sk-item::before, #sk-container-id-3 div.sk-parallel-item::before {content: \"\";position: absolute;border-left: 1px solid gray;box-sizing: border-box;top: 0;bottom: 0;left: 50%;z-index: -1;}#sk-container-id-3 div.sk-parallel-item {display: flex;flex-direction: column;z-index: 1;position: relative;background-color: white;}#sk-container-id-3 div.sk-parallel-item:first-child::after {align-self: flex-end;width: 50%;}#sk-container-id-3 div.sk-parallel-item:last-child::after {align-self: flex-start;width: 50%;}#sk-container-id-3 div.sk-parallel-item:only-child::after {width: 0;}#sk-container-id-3 div.sk-dashed-wrapped {border: 1px dashed gray;margin: 0 0.4em 0.5em 0.4em;box-sizing: border-box;padding-bottom: 0.4em;background-color: white;}#sk-container-id-3 div.sk-label label {font-family: monospace;font-weight: bold;display: inline-block;line-height: 1.2em;}#sk-container-id-3 div.sk-label-container {text-align: center;}#sk-container-id-3 div.sk-container {/* jupyter's `normalize.less` sets `[hidden] { display: none; }` but bootstrap.min.css set `[hidden] { display: none !important; }` so we also need the `!important` here to be able to override the default hidden behavior on the sphinx rendered scikit-learn.org. See: https://github.com/scikit-learn/scikit-learn/issues/21755 */display: inline-block !important;position: relative;}#sk-container-id-3 div.sk-text-repr-fallback {display: none;}</style><div id=\"sk-container-id-3\" class=\"sk-top-container\"><div class=\"sk-text-repr-fallback\"><pre>GridSearchCV(cv=StratifiedKFold(n_splits=5, random_state=None, shuffle=False),\n",
       "             estimator=Pipeline(steps=[(&#x27;preprocess&#x27;,\n",
       "                                        ColumnTransformer(remainder=&#x27;passthrough&#x27;,\n",
       "                                                          transformers=[(&#x27;onehot&#x27;,\n",
       "                                                                         OneHotEncoder(drop=&#x27;first&#x27;),\n",
       "                                                                         [&#x27;Agency &#x27;\n",
       "                                                                          &#x27;Type&#x27;,\n",
       "                                                                          &#x27;Distribution &#x27;\n",
       "                                                                          &#x27;Channel&#x27;]),\n",
       "                                                                        (&#x27;binary&#x27;,\n",
       "                                                                         BinaryEncoder(),\n",
       "                                                                         [&#x27;Product &#x27;\n",
       "                                                                          &#x27;Name&#x27;,\n",
       "                                                                          &#x27;Destination&#x27;,\n",
       "                                                                          &#x27;Agency&#x27;])])),\n",
       "                                       (&#x27;resampling&#x27;,\n",
       "                                        RandomUnderSampler(random_state=2020)),\n",
       "                                       (&#x27;model&#x27;, KNeighborsClassifier())]),\n",
       "             n_jobs=-1,\n",
       "             param_grid={&#x27;model__algorithm&#x27;: [&#x27;auto&#x27;, &#x27;ball_tree&#x27;, &#x27;kd_tree&#x27;,\n",
       "                                              &#x27;brute&#x27;],\n",
       "                         &#x27;model__leaf_size&#x27;: [30, 60, 90],\n",
       "                         &#x27;model__n_neighbors&#x27;: [1, 5, 25, 100],\n",
       "                         &#x27;model__weights&#x27;: [&#x27;uniform&#x27;, &#x27;distance&#x27;]},\n",
       "             scoring=&#x27;f1&#x27;)</pre><b>In a Jupyter environment, please rerun this cell to show the HTML representation or trust the notebook. <br />On GitHub, the HTML representation is unable to render, please try loading this page with nbviewer.org.</b></div><div class=\"sk-container\" hidden><div class=\"sk-item sk-dashed-wrapped\"><div class=\"sk-label-container\"><div class=\"sk-label sk-toggleable\"><input class=\"sk-toggleable__control sk-hidden--visually\" id=\"sk-estimator-id-23\" type=\"checkbox\" ><label for=\"sk-estimator-id-23\" class=\"sk-toggleable__label sk-toggleable__label-arrow\">GridSearchCV</label><div class=\"sk-toggleable__content\"><pre>GridSearchCV(cv=StratifiedKFold(n_splits=5, random_state=None, shuffle=False),\n",
       "             estimator=Pipeline(steps=[(&#x27;preprocess&#x27;,\n",
       "                                        ColumnTransformer(remainder=&#x27;passthrough&#x27;,\n",
       "                                                          transformers=[(&#x27;onehot&#x27;,\n",
       "                                                                         OneHotEncoder(drop=&#x27;first&#x27;),\n",
       "                                                                         [&#x27;Agency &#x27;\n",
       "                                                                          &#x27;Type&#x27;,\n",
       "                                                                          &#x27;Distribution &#x27;\n",
       "                                                                          &#x27;Channel&#x27;]),\n",
       "                                                                        (&#x27;binary&#x27;,\n",
       "                                                                         BinaryEncoder(),\n",
       "                                                                         [&#x27;Product &#x27;\n",
       "                                                                          &#x27;Name&#x27;,\n",
       "                                                                          &#x27;Destination&#x27;,\n",
       "                                                                          &#x27;Agency&#x27;])])),\n",
       "                                       (&#x27;resampling&#x27;,\n",
       "                                        RandomUnderSampler(random_state=2020)),\n",
       "                                       (&#x27;model&#x27;, KNeighborsClassifier())]),\n",
       "             n_jobs=-1,\n",
       "             param_grid={&#x27;model__algorithm&#x27;: [&#x27;auto&#x27;, &#x27;ball_tree&#x27;, &#x27;kd_tree&#x27;,\n",
       "                                              &#x27;brute&#x27;],\n",
       "                         &#x27;model__leaf_size&#x27;: [30, 60, 90],\n",
       "                         &#x27;model__n_neighbors&#x27;: [1, 5, 25, 100],\n",
       "                         &#x27;model__weights&#x27;: [&#x27;uniform&#x27;, &#x27;distance&#x27;]},\n",
       "             scoring=&#x27;f1&#x27;)</pre></div></div></div><div class=\"sk-parallel\"><div class=\"sk-parallel-item\"><div class=\"sk-item\"><div class=\"sk-label-container\"><div class=\"sk-label sk-toggleable\"><input class=\"sk-toggleable__control sk-hidden--visually\" id=\"sk-estimator-id-24\" type=\"checkbox\" ><label for=\"sk-estimator-id-24\" class=\"sk-toggleable__label sk-toggleable__label-arrow\">estimator: Pipeline</label><div class=\"sk-toggleable__content\"><pre>Pipeline(steps=[(&#x27;preprocess&#x27;,\n",
       "                 ColumnTransformer(remainder=&#x27;passthrough&#x27;,\n",
       "                                   transformers=[(&#x27;onehot&#x27;,\n",
       "                                                  OneHotEncoder(drop=&#x27;first&#x27;),\n",
       "                                                  [&#x27;Agency Type&#x27;,\n",
       "                                                   &#x27;Distribution Channel&#x27;]),\n",
       "                                                 (&#x27;binary&#x27;, BinaryEncoder(),\n",
       "                                                  [&#x27;Product Name&#x27;,\n",
       "                                                   &#x27;Destination&#x27;,\n",
       "                                                   &#x27;Agency&#x27;])])),\n",
       "                (&#x27;resampling&#x27;, RandomUnderSampler(random_state=2020)),\n",
       "                (&#x27;model&#x27;, KNeighborsClassifier())])</pre></div></div></div><div class=\"sk-serial\"><div class=\"sk-item\"><div class=\"sk-serial\"><div class=\"sk-item sk-dashed-wrapped\"><div class=\"sk-label-container\"><div class=\"sk-label sk-toggleable\"><input class=\"sk-toggleable__control sk-hidden--visually\" id=\"sk-estimator-id-25\" type=\"checkbox\" ><label for=\"sk-estimator-id-25\" class=\"sk-toggleable__label sk-toggleable__label-arrow\">preprocess: ColumnTransformer</label><div class=\"sk-toggleable__content\"><pre>ColumnTransformer(remainder=&#x27;passthrough&#x27;,\n",
       "                  transformers=[(&#x27;onehot&#x27;, OneHotEncoder(drop=&#x27;first&#x27;),\n",
       "                                 [&#x27;Agency Type&#x27;, &#x27;Distribution Channel&#x27;]),\n",
       "                                (&#x27;binary&#x27;, BinaryEncoder(),\n",
       "                                 [&#x27;Product Name&#x27;, &#x27;Destination&#x27;, &#x27;Agency&#x27;])])</pre></div></div></div><div class=\"sk-parallel\"><div class=\"sk-parallel-item\"><div class=\"sk-item\"><div class=\"sk-label-container\"><div class=\"sk-label sk-toggleable\"><input class=\"sk-toggleable__control sk-hidden--visually\" id=\"sk-estimator-id-26\" type=\"checkbox\" ><label for=\"sk-estimator-id-26\" class=\"sk-toggleable__label sk-toggleable__label-arrow\">onehot</label><div class=\"sk-toggleable__content\"><pre>[&#x27;Agency Type&#x27;, &#x27;Distribution Channel&#x27;]</pre></div></div></div><div class=\"sk-serial\"><div class=\"sk-item\"><div class=\"sk-estimator sk-toggleable\"><input class=\"sk-toggleable__control sk-hidden--visually\" id=\"sk-estimator-id-27\" type=\"checkbox\" ><label for=\"sk-estimator-id-27\" class=\"sk-toggleable__label sk-toggleable__label-arrow\">OneHotEncoder</label><div class=\"sk-toggleable__content\"><pre>OneHotEncoder(drop=&#x27;first&#x27;)</pre></div></div></div></div></div></div><div class=\"sk-parallel-item\"><div class=\"sk-item\"><div class=\"sk-label-container\"><div class=\"sk-label sk-toggleable\"><input class=\"sk-toggleable__control sk-hidden--visually\" id=\"sk-estimator-id-28\" type=\"checkbox\" ><label for=\"sk-estimator-id-28\" class=\"sk-toggleable__label sk-toggleable__label-arrow\">binary</label><div class=\"sk-toggleable__content\"><pre>[&#x27;Product Name&#x27;, &#x27;Destination&#x27;, &#x27;Agency&#x27;]</pre></div></div></div><div class=\"sk-serial\"><div class=\"sk-item\"><div class=\"sk-estimator sk-toggleable\"><input class=\"sk-toggleable__control sk-hidden--visually\" id=\"sk-estimator-id-29\" type=\"checkbox\" ><label for=\"sk-estimator-id-29\" class=\"sk-toggleable__label sk-toggleable__label-arrow\">BinaryEncoder</label><div class=\"sk-toggleable__content\"><pre>BinaryEncoder()</pre></div></div></div></div></div></div><div class=\"sk-parallel-item\"><div class=\"sk-item\"><div class=\"sk-label-container\"><div class=\"sk-label sk-toggleable\"><input class=\"sk-toggleable__control sk-hidden--visually\" id=\"sk-estimator-id-30\" type=\"checkbox\" ><label for=\"sk-estimator-id-30\" class=\"sk-toggleable__label sk-toggleable__label-arrow\">remainder</label><div class=\"sk-toggleable__content\"><pre>[&#x27;Duration&#x27;, &#x27;Net Sales&#x27;, &#x27;Commision (in value)&#x27;, &#x27;Age&#x27;]</pre></div></div></div><div class=\"sk-serial\"><div class=\"sk-item\"><div class=\"sk-estimator sk-toggleable\"><input class=\"sk-toggleable__control sk-hidden--visually\" id=\"sk-estimator-id-31\" type=\"checkbox\" ><label for=\"sk-estimator-id-31\" class=\"sk-toggleable__label sk-toggleable__label-arrow\">passthrough</label><div class=\"sk-toggleable__content\"><pre>passthrough</pre></div></div></div></div></div></div></div></div><div class=\"sk-item\"><div class=\"sk-estimator sk-toggleable\"><input class=\"sk-toggleable__control sk-hidden--visually\" id=\"sk-estimator-id-32\" type=\"checkbox\" ><label for=\"sk-estimator-id-32\" class=\"sk-toggleable__label sk-toggleable__label-arrow\">RandomUnderSampler</label><div class=\"sk-toggleable__content\"><pre>RandomUnderSampler(random_state=2020)</pre></div></div></div><div class=\"sk-item\"><div class=\"sk-estimator sk-toggleable\"><input class=\"sk-toggleable__control sk-hidden--visually\" id=\"sk-estimator-id-33\" type=\"checkbox\" ><label for=\"sk-estimator-id-33\" class=\"sk-toggleable__label sk-toggleable__label-arrow\">KNeighborsClassifier</label><div class=\"sk-toggleable__content\"><pre>KNeighborsClassifier()</pre></div></div></div></div></div></div></div></div></div></div></div></div>"
      ],
      "text/plain": [
       "GridSearchCV(cv=StratifiedKFold(n_splits=5, random_state=None, shuffle=False),\n",
       "             estimator=Pipeline(steps=[('preprocess',\n",
       "                                        ColumnTransformer(remainder='passthrough',\n",
       "                                                          transformers=[('onehot',\n",
       "                                                                         OneHotEncoder(drop='first'),\n",
       "                                                                         ['Agency '\n",
       "                                                                          'Type',\n",
       "                                                                          'Distribution '\n",
       "                                                                          'Channel']),\n",
       "                                                                        ('binary',\n",
       "                                                                         BinaryEncoder(),\n",
       "                                                                         ['Product '\n",
       "                                                                          'Name',\n",
       "                                                                          'Destination',\n",
       "                                                                          'Agency'])])),\n",
       "                                       ('resampling',\n",
       "                                        RandomUnderSampler(random_state=2020)),\n",
       "                                       ('model', KNeighborsClassifier())]),\n",
       "             n_jobs=-1,\n",
       "             param_grid={'model__algorithm': ['auto', 'ball_tree', 'kd_tree',\n",
       "                                              'brute'],\n",
       "                         'model__leaf_size': [30, 60, 90],\n",
       "                         'model__n_neighbors': [1, 5, 25, 100],\n",
       "                         'model__weights': ['uniform', 'distance']},\n",
       "             scoring='f1')"
      ]
     },
     "execution_count": 146,
     "metadata": {},
     "output_type": "execute_result"
    }
   ],
   "source": [
    "grid_knn.fit(x_train, y_train)"
   ]
  },
  {
   "cell_type": "code",
   "execution_count": 147,
   "id": "77400186",
   "metadata": {},
   "outputs": [
    {
     "data": {
      "text/plain": [
       "({'model__algorithm': 'auto',\n",
       "  'model__leaf_size': 30,\n",
       "  'model__n_neighbors': 100,\n",
       "  'model__weights': 'distance'},\n",
       " 0.07051068561206414)"
      ]
     },
     "execution_count": 147,
     "metadata": {},
     "output_type": "execute_result"
    }
   ],
   "source": [
    "grid_knn.best_params_, grid_knn.best_score_"
   ]
  },
  {
   "cell_type": "code",
   "execution_count": 172,
   "id": "8c8b6bd5",
   "metadata": {},
   "outputs": [
    {
     "name": "stdout",
     "output_type": "stream",
     "text": [
      "              precision    recall  f1-score   support\n",
      "\n",
      "           0       0.99      0.76      0.86     11595\n",
      "           1       0.04      0.57      0.07       202\n",
      "\n",
      "    accuracy                           0.76     11797\n",
      "   macro avg       0.52      0.67      0.47     11797\n",
      "weighted avg       0.97      0.76      0.85     11797\n",
      "\n",
      "f1 score : 0.0746941403734707\n"
     ]
    }
   ],
   "source": [
    "model_knn_hyper = grid_knn.best_estimator_\n",
    "model_knn_hyper.fit(x_train,y_train)\n",
    "print(classification_report(y_test, model_knn_hyper.predict(x_test)))\n",
    "print('f1 score :',f1_score(y_test,model_knn_hyper.predict(x_test)))"
   ]
  },
  {
   "cell_type": "markdown",
   "id": "83f99a7a",
   "metadata": {},
   "source": [
    "#### XGBoost Smote"
   ]
  },
  {
   "cell_type": "code",
   "execution_count": 149,
   "id": "078e0d0a",
   "metadata": {},
   "outputs": [
    {
     "data": {
      "text/plain": [
       "{'memory': None,\n",
       " 'steps': [('preprocess',\n",
       "   ColumnTransformer(remainder='passthrough',\n",
       "                     transformers=[('onehot', OneHotEncoder(drop='first'),\n",
       "                                    ['Agency Type', 'Distribution Channel']),\n",
       "                                   ('binary', BinaryEncoder(),\n",
       "                                    ['Product Name', 'Destination', 'Agency'])])),\n",
       "  ('resampling', SMOTE(random_state=2020)),\n",
       "  ('model',\n",
       "   XGBClassifier(base_score=0.5, booster='gbtree', callbacks=None,\n",
       "                 colsample_bylevel=1, colsample_bynode=1, colsample_bytree=1,\n",
       "                 early_stopping_rounds=None, enable_categorical=False,\n",
       "                 eval_metric=None, feature_types=None, gamma=0, gpu_id=-1,\n",
       "                 grow_policy='depthwise', importance_type=None,\n",
       "                 interaction_constraints='', learning_rate=0.300000012,\n",
       "                 max_bin=256, max_cat_threshold=64, max_cat_to_onehot=4,\n",
       "                 max_delta_step=0, max_depth=5, max_leaves=0, min_child_weight=1,\n",
       "                 missing=nan, monotone_constraints='()', n_estimators=100,\n",
       "                 n_jobs=0, num_parallel_tree=1, predictor='auto',\n",
       "                 random_state=2020, ...))],\n",
       " 'verbose': False,\n",
       " 'preprocess': ColumnTransformer(remainder='passthrough',\n",
       "                   transformers=[('onehot', OneHotEncoder(drop='first'),\n",
       "                                  ['Agency Type', 'Distribution Channel']),\n",
       "                                 ('binary', BinaryEncoder(),\n",
       "                                  ['Product Name', 'Destination', 'Agency'])]),\n",
       " 'resampling': SMOTE(random_state=2020),\n",
       " 'model': XGBClassifier(base_score=0.5, booster='gbtree', callbacks=None,\n",
       "               colsample_bylevel=1, colsample_bynode=1, colsample_bytree=1,\n",
       "               early_stopping_rounds=None, enable_categorical=False,\n",
       "               eval_metric=None, feature_types=None, gamma=0, gpu_id=-1,\n",
       "               grow_policy='depthwise', importance_type=None,\n",
       "               interaction_constraints='', learning_rate=0.300000012,\n",
       "               max_bin=256, max_cat_threshold=64, max_cat_to_onehot=4,\n",
       "               max_delta_step=0, max_depth=5, max_leaves=0, min_child_weight=1,\n",
       "               missing=nan, monotone_constraints='()', n_estimators=100,\n",
       "               n_jobs=0, num_parallel_tree=1, predictor='auto',\n",
       "               random_state=2020, ...),\n",
       " 'preprocess__n_jobs': None,\n",
       " 'preprocess__remainder': 'passthrough',\n",
       " 'preprocess__sparse_threshold': 0.3,\n",
       " 'preprocess__transformer_weights': None,\n",
       " 'preprocess__transformers': [('onehot',\n",
       "   OneHotEncoder(drop='first'),\n",
       "   ['Agency Type', 'Distribution Channel']),\n",
       "  ('binary', BinaryEncoder(), ['Product Name', 'Destination', 'Agency'])],\n",
       " 'preprocess__verbose': False,\n",
       " 'preprocess__verbose_feature_names_out': True,\n",
       " 'preprocess__onehot': OneHotEncoder(drop='first'),\n",
       " 'preprocess__binary': BinaryEncoder(),\n",
       " 'preprocess__onehot__categories': 'auto',\n",
       " 'preprocess__onehot__drop': 'first',\n",
       " 'preprocess__onehot__dtype': numpy.float64,\n",
       " 'preprocess__onehot__handle_unknown': 'error',\n",
       " 'preprocess__onehot__max_categories': None,\n",
       " 'preprocess__onehot__min_frequency': None,\n",
       " 'preprocess__onehot__sparse': True,\n",
       " 'preprocess__binary__base': 2,\n",
       " 'preprocess__binary__cols': None,\n",
       " 'preprocess__binary__drop_invariant': False,\n",
       " 'preprocess__binary__handle_missing': 'value',\n",
       " 'preprocess__binary__handle_unknown': 'value',\n",
       " 'preprocess__binary__mapping': None,\n",
       " 'preprocess__binary__return_df': True,\n",
       " 'preprocess__binary__verbose': 0,\n",
       " 'resampling__k_neighbors': 5,\n",
       " 'resampling__n_jobs': None,\n",
       " 'resampling__random_state': 2020,\n",
       " 'resampling__sampling_strategy': 'auto',\n",
       " 'model__objective': 'binary:logistic',\n",
       " 'model__use_label_encoder': None,\n",
       " 'model__base_score': 0.5,\n",
       " 'model__booster': 'gbtree',\n",
       " 'model__callbacks': None,\n",
       " 'model__colsample_bylevel': 1,\n",
       " 'model__colsample_bynode': 1,\n",
       " 'model__colsample_bytree': 1,\n",
       " 'model__early_stopping_rounds': None,\n",
       " 'model__enable_categorical': False,\n",
       " 'model__eval_metric': None,\n",
       " 'model__feature_types': None,\n",
       " 'model__gamma': 0,\n",
       " 'model__gpu_id': -1,\n",
       " 'model__grow_policy': 'depthwise',\n",
       " 'model__importance_type': None,\n",
       " 'model__interaction_constraints': '',\n",
       " 'model__learning_rate': 0.300000012,\n",
       " 'model__max_bin': 256,\n",
       " 'model__max_cat_threshold': 64,\n",
       " 'model__max_cat_to_onehot': 4,\n",
       " 'model__max_delta_step': 0,\n",
       " 'model__max_depth': 5,\n",
       " 'model__max_leaves': 0,\n",
       " 'model__min_child_weight': 1,\n",
       " 'model__missing': nan,\n",
       " 'model__monotone_constraints': '()',\n",
       " 'model__n_estimators': 100,\n",
       " 'model__n_jobs': 0,\n",
       " 'model__num_parallel_tree': 1,\n",
       " 'model__predictor': 'auto',\n",
       " 'model__random_state': 2020,\n",
       " 'model__reg_alpha': 0,\n",
       " 'model__reg_lambda': 1,\n",
       " 'model__sampling_method': 'uniform',\n",
       " 'model__scale_pos_weight': 1,\n",
       " 'model__subsample': 1,\n",
       " 'model__tree_method': 'exact',\n",
       " 'model__validate_parameters': 1,\n",
       " 'model__verbosity': None}"
      ]
     },
     "execution_count": 149,
     "metadata": {},
     "output_type": "execute_result"
    }
   ],
   "source": [
    "model_xgb_smote.get_params()"
   ]
  },
  {
   "cell_type": "code",
   "execution_count": 150,
   "id": "69eae61c",
   "metadata": {},
   "outputs": [],
   "source": [
    "hyperparam_space = [\n",
    "    {'model__learning_rate' : [0.3], 'model__n_estimators':[100], 'model__max_depth':[3,4,5]}, \n",
    "    {'model__learning_rate' : [0.03], 'model__n_estimators':[300], 'model__max_depth':[3,4,5]}, \n",
    "    {'model__learning_rate' : [0.003], 'model__n_estimators':[3000], 'model__max_depth':[3,4,5]} \n",
    "]"
   ]
  },
  {
   "cell_type": "code",
   "execution_count": 151,
   "id": "18a47749",
   "metadata": {},
   "outputs": [],
   "source": [
    "skfold = StratifiedKFold(n_splits=5)\n",
    "xgb = XGBClassifier(max_depth=5,random_state=2020)\n",
    "grid_xgb = GridSearchCV(model_xgb_smote,\n",
    "                        param_grid = hyperparam_space,\n",
    "                        cv = skfold,\n",
    "                        scoring = 'f1',\n",
    "                        n_jobs=-1)"
   ]
  },
  {
   "cell_type": "code",
   "execution_count": 152,
   "id": "244c4701",
   "metadata": {},
   "outputs": [
    {
     "data": {
      "text/html": [
       "<style>#sk-container-id-4 {color: black;background-color: white;}#sk-container-id-4 pre{padding: 0;}#sk-container-id-4 div.sk-toggleable {background-color: white;}#sk-container-id-4 label.sk-toggleable__label {cursor: pointer;display: block;width: 100%;margin-bottom: 0;padding: 0.3em;box-sizing: border-box;text-align: center;}#sk-container-id-4 label.sk-toggleable__label-arrow:before {content: \"▸\";float: left;margin-right: 0.25em;color: #696969;}#sk-container-id-4 label.sk-toggleable__label-arrow:hover:before {color: black;}#sk-container-id-4 div.sk-estimator:hover label.sk-toggleable__label-arrow:before {color: black;}#sk-container-id-4 div.sk-toggleable__content {max-height: 0;max-width: 0;overflow: hidden;text-align: left;background-color: #f0f8ff;}#sk-container-id-4 div.sk-toggleable__content pre {margin: 0.2em;color: black;border-radius: 0.25em;background-color: #f0f8ff;}#sk-container-id-4 input.sk-toggleable__control:checked~div.sk-toggleable__content {max-height: 200px;max-width: 100%;overflow: auto;}#sk-container-id-4 input.sk-toggleable__control:checked~label.sk-toggleable__label-arrow:before {content: \"▾\";}#sk-container-id-4 div.sk-estimator input.sk-toggleable__control:checked~label.sk-toggleable__label {background-color: #d4ebff;}#sk-container-id-4 div.sk-label input.sk-toggleable__control:checked~label.sk-toggleable__label {background-color: #d4ebff;}#sk-container-id-4 input.sk-hidden--visually {border: 0;clip: rect(1px 1px 1px 1px);clip: rect(1px, 1px, 1px, 1px);height: 1px;margin: -1px;overflow: hidden;padding: 0;position: absolute;width: 1px;}#sk-container-id-4 div.sk-estimator {font-family: monospace;background-color: #f0f8ff;border: 1px dotted black;border-radius: 0.25em;box-sizing: border-box;margin-bottom: 0.5em;}#sk-container-id-4 div.sk-estimator:hover {background-color: #d4ebff;}#sk-container-id-4 div.sk-parallel-item::after {content: \"\";width: 100%;border-bottom: 1px solid gray;flex-grow: 1;}#sk-container-id-4 div.sk-label:hover label.sk-toggleable__label {background-color: #d4ebff;}#sk-container-id-4 div.sk-serial::before {content: \"\";position: absolute;border-left: 1px solid gray;box-sizing: border-box;top: 0;bottom: 0;left: 50%;z-index: 0;}#sk-container-id-4 div.sk-serial {display: flex;flex-direction: column;align-items: center;background-color: white;padding-right: 0.2em;padding-left: 0.2em;position: relative;}#sk-container-id-4 div.sk-item {position: relative;z-index: 1;}#sk-container-id-4 div.sk-parallel {display: flex;align-items: stretch;justify-content: center;background-color: white;position: relative;}#sk-container-id-4 div.sk-item::before, #sk-container-id-4 div.sk-parallel-item::before {content: \"\";position: absolute;border-left: 1px solid gray;box-sizing: border-box;top: 0;bottom: 0;left: 50%;z-index: -1;}#sk-container-id-4 div.sk-parallel-item {display: flex;flex-direction: column;z-index: 1;position: relative;background-color: white;}#sk-container-id-4 div.sk-parallel-item:first-child::after {align-self: flex-end;width: 50%;}#sk-container-id-4 div.sk-parallel-item:last-child::after {align-self: flex-start;width: 50%;}#sk-container-id-4 div.sk-parallel-item:only-child::after {width: 0;}#sk-container-id-4 div.sk-dashed-wrapped {border: 1px dashed gray;margin: 0 0.4em 0.5em 0.4em;box-sizing: border-box;padding-bottom: 0.4em;background-color: white;}#sk-container-id-4 div.sk-label label {font-family: monospace;font-weight: bold;display: inline-block;line-height: 1.2em;}#sk-container-id-4 div.sk-label-container {text-align: center;}#sk-container-id-4 div.sk-container {/* jupyter's `normalize.less` sets `[hidden] { display: none; }` but bootstrap.min.css set `[hidden] { display: none !important; }` so we also need the `!important` here to be able to override the default hidden behavior on the sphinx rendered scikit-learn.org. See: https://github.com/scikit-learn/scikit-learn/issues/21755 */display: inline-block !important;position: relative;}#sk-container-id-4 div.sk-text-repr-fallback {display: none;}</style><div id=\"sk-container-id-4\" class=\"sk-top-container\"><div class=\"sk-text-repr-fallback\"><pre>GridSearchCV(cv=StratifiedKFold(n_splits=5, random_state=None, shuffle=False),\n",
       "             estimator=Pipeline(steps=[(&#x27;preprocess&#x27;,\n",
       "                                        ColumnTransformer(remainder=&#x27;passthrough&#x27;,\n",
       "                                                          transformers=[(&#x27;onehot&#x27;,\n",
       "                                                                         OneHotEncoder(drop=&#x27;first&#x27;),\n",
       "                                                                         [&#x27;Agency &#x27;\n",
       "                                                                          &#x27;Type&#x27;,\n",
       "                                                                          &#x27;Distribution &#x27;\n",
       "                                                                          &#x27;Channel&#x27;]),\n",
       "                                                                        (&#x27;binary&#x27;,\n",
       "                                                                         BinaryEncoder(),\n",
       "                                                                         [&#x27;Product &#x27;\n",
       "                                                                          &#x27;Name&#x27;,\n",
       "                                                                          &#x27;Destination&#x27;,\n",
       "                                                                          &#x27;Agency&#x27;])])),\n",
       "                                       (&#x27;resampling&#x27;, SMOTE(random_...\n",
       "                                                      num_parallel_tree=1,\n",
       "                                                      predictor=&#x27;auto&#x27;,\n",
       "                                                      random_state=2020, ...))]),\n",
       "             n_jobs=-1,\n",
       "             param_grid=[{&#x27;model__learning_rate&#x27;: [0.3],\n",
       "                          &#x27;model__max_depth&#x27;: [3, 4, 5],\n",
       "                          &#x27;model__n_estimators&#x27;: [100]},\n",
       "                         {&#x27;model__learning_rate&#x27;: [0.03],\n",
       "                          &#x27;model__max_depth&#x27;: [3, 4, 5],\n",
       "                          &#x27;model__n_estimators&#x27;: [300]},\n",
       "                         {&#x27;model__learning_rate&#x27;: [0.003],\n",
       "                          &#x27;model__max_depth&#x27;: [3, 4, 5],\n",
       "                          &#x27;model__n_estimators&#x27;: [3000]}],\n",
       "             scoring=&#x27;f1&#x27;)</pre><b>In a Jupyter environment, please rerun this cell to show the HTML representation or trust the notebook. <br />On GitHub, the HTML representation is unable to render, please try loading this page with nbviewer.org.</b></div><div class=\"sk-container\" hidden><div class=\"sk-item sk-dashed-wrapped\"><div class=\"sk-label-container\"><div class=\"sk-label sk-toggleable\"><input class=\"sk-toggleable__control sk-hidden--visually\" id=\"sk-estimator-id-34\" type=\"checkbox\" ><label for=\"sk-estimator-id-34\" class=\"sk-toggleable__label sk-toggleable__label-arrow\">GridSearchCV</label><div class=\"sk-toggleable__content\"><pre>GridSearchCV(cv=StratifiedKFold(n_splits=5, random_state=None, shuffle=False),\n",
       "             estimator=Pipeline(steps=[(&#x27;preprocess&#x27;,\n",
       "                                        ColumnTransformer(remainder=&#x27;passthrough&#x27;,\n",
       "                                                          transformers=[(&#x27;onehot&#x27;,\n",
       "                                                                         OneHotEncoder(drop=&#x27;first&#x27;),\n",
       "                                                                         [&#x27;Agency &#x27;\n",
       "                                                                          &#x27;Type&#x27;,\n",
       "                                                                          &#x27;Distribution &#x27;\n",
       "                                                                          &#x27;Channel&#x27;]),\n",
       "                                                                        (&#x27;binary&#x27;,\n",
       "                                                                         BinaryEncoder(),\n",
       "                                                                         [&#x27;Product &#x27;\n",
       "                                                                          &#x27;Name&#x27;,\n",
       "                                                                          &#x27;Destination&#x27;,\n",
       "                                                                          &#x27;Agency&#x27;])])),\n",
       "                                       (&#x27;resampling&#x27;, SMOTE(random_...\n",
       "                                                      num_parallel_tree=1,\n",
       "                                                      predictor=&#x27;auto&#x27;,\n",
       "                                                      random_state=2020, ...))]),\n",
       "             n_jobs=-1,\n",
       "             param_grid=[{&#x27;model__learning_rate&#x27;: [0.3],\n",
       "                          &#x27;model__max_depth&#x27;: [3, 4, 5],\n",
       "                          &#x27;model__n_estimators&#x27;: [100]},\n",
       "                         {&#x27;model__learning_rate&#x27;: [0.03],\n",
       "                          &#x27;model__max_depth&#x27;: [3, 4, 5],\n",
       "                          &#x27;model__n_estimators&#x27;: [300]},\n",
       "                         {&#x27;model__learning_rate&#x27;: [0.003],\n",
       "                          &#x27;model__max_depth&#x27;: [3, 4, 5],\n",
       "                          &#x27;model__n_estimators&#x27;: [3000]}],\n",
       "             scoring=&#x27;f1&#x27;)</pre></div></div></div><div class=\"sk-parallel\"><div class=\"sk-parallel-item\"><div class=\"sk-item\"><div class=\"sk-label-container\"><div class=\"sk-label sk-toggleable\"><input class=\"sk-toggleable__control sk-hidden--visually\" id=\"sk-estimator-id-35\" type=\"checkbox\" ><label for=\"sk-estimator-id-35\" class=\"sk-toggleable__label sk-toggleable__label-arrow\">estimator: Pipeline</label><div class=\"sk-toggleable__content\"><pre>Pipeline(steps=[(&#x27;preprocess&#x27;,\n",
       "                 ColumnTransformer(remainder=&#x27;passthrough&#x27;,\n",
       "                                   transformers=[(&#x27;onehot&#x27;,\n",
       "                                                  OneHotEncoder(drop=&#x27;first&#x27;),\n",
       "                                                  [&#x27;Agency Type&#x27;,\n",
       "                                                   &#x27;Distribution Channel&#x27;]),\n",
       "                                                 (&#x27;binary&#x27;, BinaryEncoder(),\n",
       "                                                  [&#x27;Product Name&#x27;,\n",
       "                                                   &#x27;Destination&#x27;,\n",
       "                                                   &#x27;Agency&#x27;])])),\n",
       "                (&#x27;resampling&#x27;, SMOTE(random_state=2020)),\n",
       "                (&#x27;model&#x27;,\n",
       "                 XGBClassifier(base_score=0.5, booster=&#x27;gbtree&#x27;, callbacks=None,\n",
       "                               colsample...\n",
       "                               feature_types=None, gamma=0, gpu_id=-1,\n",
       "                               grow_policy=&#x27;depthwise&#x27;, importance_type=None,\n",
       "                               interaction_constraints=&#x27;&#x27;,\n",
       "                               learning_rate=0.300000012, max_bin=256,\n",
       "                               max_cat_threshold=64, max_cat_to_onehot=4,\n",
       "                               max_delta_step=0, max_depth=5, max_leaves=0,\n",
       "                               min_child_weight=1, missing=nan,\n",
       "                               monotone_constraints=&#x27;()&#x27;, n_estimators=100,\n",
       "                               n_jobs=0, num_parallel_tree=1, predictor=&#x27;auto&#x27;,\n",
       "                               random_state=2020, ...))])</pre></div></div></div><div class=\"sk-serial\"><div class=\"sk-item\"><div class=\"sk-serial\"><div class=\"sk-item sk-dashed-wrapped\"><div class=\"sk-label-container\"><div class=\"sk-label sk-toggleable\"><input class=\"sk-toggleable__control sk-hidden--visually\" id=\"sk-estimator-id-36\" type=\"checkbox\" ><label for=\"sk-estimator-id-36\" class=\"sk-toggleable__label sk-toggleable__label-arrow\">preprocess: ColumnTransformer</label><div class=\"sk-toggleable__content\"><pre>ColumnTransformer(remainder=&#x27;passthrough&#x27;,\n",
       "                  transformers=[(&#x27;onehot&#x27;, OneHotEncoder(drop=&#x27;first&#x27;),\n",
       "                                 [&#x27;Agency Type&#x27;, &#x27;Distribution Channel&#x27;]),\n",
       "                                (&#x27;binary&#x27;, BinaryEncoder(),\n",
       "                                 [&#x27;Product Name&#x27;, &#x27;Destination&#x27;, &#x27;Agency&#x27;])])</pre></div></div></div><div class=\"sk-parallel\"><div class=\"sk-parallel-item\"><div class=\"sk-item\"><div class=\"sk-label-container\"><div class=\"sk-label sk-toggleable\"><input class=\"sk-toggleable__control sk-hidden--visually\" id=\"sk-estimator-id-37\" type=\"checkbox\" ><label for=\"sk-estimator-id-37\" class=\"sk-toggleable__label sk-toggleable__label-arrow\">onehot</label><div class=\"sk-toggleable__content\"><pre>[&#x27;Agency Type&#x27;, &#x27;Distribution Channel&#x27;]</pre></div></div></div><div class=\"sk-serial\"><div class=\"sk-item\"><div class=\"sk-estimator sk-toggleable\"><input class=\"sk-toggleable__control sk-hidden--visually\" id=\"sk-estimator-id-38\" type=\"checkbox\" ><label for=\"sk-estimator-id-38\" class=\"sk-toggleable__label sk-toggleable__label-arrow\">OneHotEncoder</label><div class=\"sk-toggleable__content\"><pre>OneHotEncoder(drop=&#x27;first&#x27;)</pre></div></div></div></div></div></div><div class=\"sk-parallel-item\"><div class=\"sk-item\"><div class=\"sk-label-container\"><div class=\"sk-label sk-toggleable\"><input class=\"sk-toggleable__control sk-hidden--visually\" id=\"sk-estimator-id-39\" type=\"checkbox\" ><label for=\"sk-estimator-id-39\" class=\"sk-toggleable__label sk-toggleable__label-arrow\">binary</label><div class=\"sk-toggleable__content\"><pre>[&#x27;Product Name&#x27;, &#x27;Destination&#x27;, &#x27;Agency&#x27;]</pre></div></div></div><div class=\"sk-serial\"><div class=\"sk-item\"><div class=\"sk-estimator sk-toggleable\"><input class=\"sk-toggleable__control sk-hidden--visually\" id=\"sk-estimator-id-40\" type=\"checkbox\" ><label for=\"sk-estimator-id-40\" class=\"sk-toggleable__label sk-toggleable__label-arrow\">BinaryEncoder</label><div class=\"sk-toggleable__content\"><pre>BinaryEncoder()</pre></div></div></div></div></div></div><div class=\"sk-parallel-item\"><div class=\"sk-item\"><div class=\"sk-label-container\"><div class=\"sk-label sk-toggleable\"><input class=\"sk-toggleable__control sk-hidden--visually\" id=\"sk-estimator-id-41\" type=\"checkbox\" ><label for=\"sk-estimator-id-41\" class=\"sk-toggleable__label sk-toggleable__label-arrow\">remainder</label><div class=\"sk-toggleable__content\"><pre>[&#x27;Duration&#x27;, &#x27;Net Sales&#x27;, &#x27;Commision (in value)&#x27;, &#x27;Age&#x27;]</pre></div></div></div><div class=\"sk-serial\"><div class=\"sk-item\"><div class=\"sk-estimator sk-toggleable\"><input class=\"sk-toggleable__control sk-hidden--visually\" id=\"sk-estimator-id-42\" type=\"checkbox\" ><label for=\"sk-estimator-id-42\" class=\"sk-toggleable__label sk-toggleable__label-arrow\">passthrough</label><div class=\"sk-toggleable__content\"><pre>passthrough</pre></div></div></div></div></div></div></div></div><div class=\"sk-item\"><div class=\"sk-estimator sk-toggleable\"><input class=\"sk-toggleable__control sk-hidden--visually\" id=\"sk-estimator-id-43\" type=\"checkbox\" ><label for=\"sk-estimator-id-43\" class=\"sk-toggleable__label sk-toggleable__label-arrow\">SMOTE</label><div class=\"sk-toggleable__content\"><pre>SMOTE(random_state=2020)</pre></div></div></div><div class=\"sk-item\"><div class=\"sk-estimator sk-toggleable\"><input class=\"sk-toggleable__control sk-hidden--visually\" id=\"sk-estimator-id-44\" type=\"checkbox\" ><label for=\"sk-estimator-id-44\" class=\"sk-toggleable__label sk-toggleable__label-arrow\">XGBClassifier</label><div class=\"sk-toggleable__content\"><pre>XGBClassifier(base_score=0.5, booster=&#x27;gbtree&#x27;, callbacks=None,\n",
       "              colsample_bylevel=1, colsample_bynode=1, colsample_bytree=1,\n",
       "              early_stopping_rounds=None, enable_categorical=False,\n",
       "              eval_metric=None, feature_types=None, gamma=0, gpu_id=-1,\n",
       "              grow_policy=&#x27;depthwise&#x27;, importance_type=None,\n",
       "              interaction_constraints=&#x27;&#x27;, learning_rate=0.300000012,\n",
       "              max_bin=256, max_cat_threshold=64, max_cat_to_onehot=4,\n",
       "              max_delta_step=0, max_depth=5, max_leaves=0, min_child_weight=1,\n",
       "              missing=nan, monotone_constraints=&#x27;()&#x27;, n_estimators=100,\n",
       "              n_jobs=0, num_parallel_tree=1, predictor=&#x27;auto&#x27;,\n",
       "              random_state=2020, ...)</pre></div></div></div></div></div></div></div></div></div></div></div></div>"
      ],
      "text/plain": [
       "GridSearchCV(cv=StratifiedKFold(n_splits=5, random_state=None, shuffle=False),\n",
       "             estimator=Pipeline(steps=[('preprocess',\n",
       "                                        ColumnTransformer(remainder='passthrough',\n",
       "                                                          transformers=[('onehot',\n",
       "                                                                         OneHotEncoder(drop='first'),\n",
       "                                                                         ['Agency '\n",
       "                                                                          'Type',\n",
       "                                                                          'Distribution '\n",
       "                                                                          'Channel']),\n",
       "                                                                        ('binary',\n",
       "                                                                         BinaryEncoder(),\n",
       "                                                                         ['Product '\n",
       "                                                                          'Name',\n",
       "                                                                          'Destination',\n",
       "                                                                          'Agency'])])),\n",
       "                                       ('resampling', SMOTE(random_...\n",
       "                                                      num_parallel_tree=1,\n",
       "                                                      predictor='auto',\n",
       "                                                      random_state=2020, ...))]),\n",
       "             n_jobs=-1,\n",
       "             param_grid=[{'model__learning_rate': [0.3],\n",
       "                          'model__max_depth': [3, 4, 5],\n",
       "                          'model__n_estimators': [100]},\n",
       "                         {'model__learning_rate': [0.03],\n",
       "                          'model__max_depth': [3, 4, 5],\n",
       "                          'model__n_estimators': [300]},\n",
       "                         {'model__learning_rate': [0.003],\n",
       "                          'model__max_depth': [3, 4, 5],\n",
       "                          'model__n_estimators': [3000]}],\n",
       "             scoring='f1')"
      ]
     },
     "execution_count": 152,
     "metadata": {},
     "output_type": "execute_result"
    }
   ],
   "source": [
    "grid_xgb.fit(x_train, y_train)"
   ]
  },
  {
   "cell_type": "code",
   "execution_count": 153,
   "id": "86b8f2cd",
   "metadata": {},
   "outputs": [
    {
     "data": {
      "text/plain": [
       "({'model__learning_rate': 0.03,\n",
       "  'model__max_depth': 3,\n",
       "  'model__n_estimators': 300},\n",
       " 0.1505086642504307)"
      ]
     },
     "execution_count": 153,
     "metadata": {},
     "output_type": "execute_result"
    }
   ],
   "source": [
    "grid_xgb.best_params_, grid_xgb.best_score_"
   ]
  },
  {
   "cell_type": "code",
   "execution_count": 173,
   "id": "7ee10b84",
   "metadata": {},
   "outputs": [
    {
     "name": "stdout",
     "output_type": "stream",
     "text": [
      "              precision    recall  f1-score   support\n",
      "\n",
      "           0       0.99      0.90      0.94     11595\n",
      "           1       0.08      0.49      0.13       202\n",
      "\n",
      "    accuracy                           0.89     11797\n",
      "   macro avg       0.53      0.69      0.54     11797\n",
      "weighted avg       0.97      0.89      0.93     11797\n",
      "\n",
      "f1 score : 0.13306451612903225\n"
     ]
    }
   ],
   "source": [
    "model_xgb_hyper = grid_xgb.best_estimator_\n",
    "model_xgb_hyper.fit(x_train,y_train)\n",
    "print(classification_report(y_test, model_xgb_hyper.predict(x_test)))\n",
    "print('f1 score :', f1_score(y_test, model_xgb_hyper.predict(x_test)))"
   ]
  },
  {
   "cell_type": "markdown",
   "id": "6f1bb09c",
   "metadata": {},
   "source": [
    "## 3.3 Memilih Model Terbaik "
   ]
  },
  {
   "cell_type": "code",
   "execution_count": 155,
   "id": "0a317ec5",
   "metadata": {},
   "outputs": [
    {
     "name": "stdout",
     "output_type": "stream",
     "text": [
      "KNN Setelah Dilakukan Tuning\n",
      "              precision    recall  f1-score   support\n",
      "\n",
      "           0       0.99      0.76      0.86     11595\n",
      "           1       0.04      0.57      0.07       202\n",
      "\n",
      "    accuracy                           0.76     11797\n",
      "   macro avg       0.52      0.67      0.47     11797\n",
      "weighted avg       0.97      0.76      0.85     11797\n",
      "\n",
      "XGBoost Setelah Dilakukan Tuning\n",
      "              precision    recall  f1-score   support\n",
      "\n",
      "           0       0.99      0.90      0.94     11595\n",
      "           1       0.08      0.49      0.13       202\n",
      "\n",
      "    accuracy                           0.89     11797\n",
      "   macro avg       0.53      0.69      0.54     11797\n",
      "weighted avg       0.97      0.89      0.93     11797\n",
      "\n"
     ]
    }
   ],
   "source": [
    "# Membandingkan Kedua Model Yang Dipilih Untuk Tuning\n",
    "print('KNN Setelah Dilakukan Tuning')\n",
    "model_knn_hyper = grid_knn.best_estimator_\n",
    "model_knn_hyper.fit(x_train,y_train)\n",
    "print(classification_report(y_test, model_knn_hyper.predict(x_test)))\n",
    "\n",
    "\n",
    "print('XGBoost Setelah Dilakukan Tuning')\n",
    "model_xgb_hyper = grid_xgb.best_estimator_\n",
    "model_xgb_hyper.fit(x_train,y_train)\n",
    "print(classification_report(y_test, model_xgb_hyper.predict(x_test)))"
   ]
  },
  {
   "cell_type": "markdown",
   "id": "d7f84be2",
   "metadata": {},
   "source": [
    "Dari sini terlihat bahwa hasil f1 score dari **XGBoost yang telah dilakukan tuning yang lebih** baik daripada KNN yang telah dilakukan tuning."
   ]
  },
  {
   "cell_type": "code",
   "execution_count": 156,
   "id": "cea3070c",
   "metadata": {},
   "outputs": [
    {
     "name": "stdout",
     "output_type": "stream",
     "text": [
      "XGBoost Sebelum Dilakukan Tuning\n",
      "              precision    recall  f1-score   support\n",
      "\n",
      "           0       0.98      0.99      0.99     11595\n",
      "           1       0.07      0.06      0.06       202\n",
      "\n",
      "    accuracy                           0.97     11797\n",
      "   macro avg       0.53      0.52      0.52     11797\n",
      "weighted avg       0.97      0.97      0.97     11797\n",
      "\n",
      "XGBoost Setelah Dilakukan Tuning\n",
      "              precision    recall  f1-score   support\n",
      "\n",
      "           0       0.99      0.90      0.94     11595\n",
      "           1       0.08      0.49      0.13       202\n",
      "\n",
      "    accuracy                           0.89     11797\n",
      "   macro avg       0.53      0.69      0.54     11797\n",
      "weighted avg       0.97      0.89      0.93     11797\n",
      "\n"
     ]
    }
   ],
   "source": [
    "# Membandingkan XGBoost yang lebih baik Sebelum atau Sesudah Tuning\n",
    "print('XGBoost Sebelum Dilakukan Tuning')\n",
    "model_xgb_smote = Pipeline ([\n",
    "    ('preprocess', tf),\n",
    "    ('Resampling',smote),\n",
    "    ('model', xgb)\n",
    "    ])\n",
    "model_xgb_smote.fit (x_train, y_train)\n",
    "y_pred = model_xgb_smote.predict (x_test)\n",
    "print(classification_report(y_test,y_pred))\n",
    "\n",
    "\n",
    "print('XGBoost Setelah Dilakukan Tuning')\n",
    "model_xgb_hyper = grid_xgb.best_estimator_\n",
    "model_xgb_hyper.fit(x_train,y_train)\n",
    "print(classification_report(y_test, model_xgb_hyper.predict(x_test)))"
   ]
  },
  {
   "cell_type": "markdown",
   "id": "0c99a40e",
   "metadata": {},
   "source": [
    "setelah di lakukan hyperparameter tunning nilai evaluasi metrics dari model mengalami kenaikan walaupun tidak naik signifikan. maka dari itu, model yang **digunakan** untuk menjawab business problem ialah model **XGBoost random under sampling yang sudah di tunning.**"
   ]
  },
  {
   "cell_type": "markdown",
   "id": "9a180919",
   "metadata": {},
   "source": [
    "## 3.4 Feature Importance  \n",
    "Kita ingin melihat fitur mana yang paling berpengaruh pada model prediksi kita"
   ]
  },
  {
   "cell_type": "code",
   "execution_count": 157,
   "id": "21a0e650",
   "metadata": {},
   "outputs": [
    {
     "data": {
      "text/plain": [
       "array(['Agency Type_Travel Agency', 'Distribution Channel_Online'],\n",
       "      dtype=object)"
      ]
     },
     "execution_count": 157,
     "metadata": {},
     "output_type": "execute_result"
    }
   ],
   "source": [
    "model_xgb_hyper[0].transformers_[0][1].get_feature_names_out()"
   ]
  },
  {
   "cell_type": "code",
   "execution_count": 158,
   "id": "cba9adef",
   "metadata": {},
   "outputs": [
    {
     "data": {
      "text/plain": [
       "['Product Name_0',\n",
       " 'Product Name_1',\n",
       " 'Product Name_2',\n",
       " 'Product Name_3',\n",
       " 'Product Name_4',\n",
       " 'Destination_0',\n",
       " 'Destination_1',\n",
       " 'Destination_2',\n",
       " 'Destination_3',\n",
       " 'Destination_4',\n",
       " 'Destination_5',\n",
       " 'Destination_6',\n",
       " 'Agency_0',\n",
       " 'Agency_1',\n",
       " 'Agency_2',\n",
       " 'Agency_3',\n",
       " 'Agency_4']"
      ]
     },
     "execution_count": 158,
     "metadata": {},
     "output_type": "execute_result"
    }
   ],
   "source": [
    "model_xgb_hyper[0].transformers_[1][1].get_feature_names()"
   ]
  },
  {
   "cell_type": "code",
   "execution_count": 159,
   "id": "700d2b14",
   "metadata": {},
   "outputs": [
    {
     "data": {
      "text/plain": [
       "Index(['Duration', 'Net Sales', 'Commision (in value)', 'Age'], dtype='object')"
      ]
     },
     "execution_count": 159,
     "metadata": {},
     "output_type": "execute_result"
    }
   ],
   "source": [
    "x.columns[model_xgb_hyper[0].transformers_[2][2]]"
   ]
  },
  {
   "cell_type": "code",
   "execution_count": 160,
   "id": "6ccec1e5",
   "metadata": {},
   "outputs": [],
   "source": [
    "features = list(model_xgb_hyper[0].transformers_[0][1].get_feature_names_out()) + model_xgb_hyper[0].transformers_[1][1].get_feature_names() + list(x.columns[model_xgb_hyper[0].transformers_[2][2]])"
   ]
  },
  {
   "cell_type": "code",
   "execution_count": 161,
   "id": "a0257171",
   "metadata": {},
   "outputs": [
    {
     "data": {
      "text/plain": [
       "['Agency Type_Travel Agency',\n",
       " 'Distribution Channel_Online',\n",
       " 'Product Name_0',\n",
       " 'Product Name_1',\n",
       " 'Product Name_2',\n",
       " 'Product Name_3',\n",
       " 'Product Name_4',\n",
       " 'Destination_0',\n",
       " 'Destination_1',\n",
       " 'Destination_2',\n",
       " 'Destination_3',\n",
       " 'Destination_4',\n",
       " 'Destination_5',\n",
       " 'Destination_6',\n",
       " 'Agency_0',\n",
       " 'Agency_1',\n",
       " 'Agency_2',\n",
       " 'Agency_3',\n",
       " 'Agency_4',\n",
       " 'Duration',\n",
       " 'Net Sales',\n",
       " 'Commision (in value)',\n",
       " 'Age']"
      ]
     },
     "execution_count": 161,
     "metadata": {},
     "output_type": "execute_result"
    }
   ],
   "source": [
    "features"
   ]
  },
  {
   "cell_type": "code",
   "execution_count": 162,
   "id": "62bcf65c",
   "metadata": {},
   "outputs": [
    {
     "data": {
      "text/plain": [
       "<AxesSubplot:>"
      ]
     },
     "execution_count": 162,
     "metadata": {},
     "output_type": "execute_result"
    },
    {
     "data": {
      "image/png": "[encoded data removed]",
      "text/plain": [
       "<Figure size 864x576 with 1 Axes>"
      ]
     },
     "metadata": {
      "needs_background": "light"
     },
     "output_type": "display_data"
    }
   ],
   "source": [
    "pd.DataFrame({'imp':model_xgb_hyper[2].feature_importances_}, index=features).sort_values('imp', ascending=True).plot(kind = 'barh', figsize=(12,8))"
   ]
  },
  {
   "cell_type": "markdown",
   "id": "4c6e7353",
   "metadata": {},
   "source": [
    "Terlihat bahwa features yang paling berpengaruh terhadap seorang customer akan melakukan claim adalah agency tempat ia membeli asuransi (dalam hal ini agensi ke 2). apabila running model terlalu berat salah satu opsi yang dapat dilakukan ialah menghapus feature yang tidak terlalu berpengaruh terhadap keputusan customer dalam melakukan claim."
   ]
  },
  {
   "cell_type": "markdown",
   "id": "0ed749ee",
   "metadata": {},
   "source": [
    "# 4. Kesimpulan"
   ]
  },
  {
   "cell_type": "markdown",
   "id": "8077b5d7",
   "metadata": {},
   "source": [
    "## 4.1 Model Yang Dipilih"
   ]
  },
  {
   "cell_type": "markdown",
   "id": "9e471ed3",
   "metadata": {},
   "source": [
    "#### XGBoost SMOTE Setelah Hyperparameter Tuning"
   ]
  },
  {
   "cell_type": "code",
   "execution_count": 163,
   "id": "eaecb9cc",
   "metadata": {},
   "outputs": [
    {
     "name": "stdout",
     "output_type": "stream",
     "text": [
      "              precision    recall  f1-score   support\n",
      "\n",
      "           0       0.99      0.90      0.94     11595\n",
      "           1       0.08      0.49      0.13       202\n",
      "\n",
      "    accuracy                           0.89     11797\n",
      "   macro avg       0.53      0.69      0.54     11797\n",
      "weighted avg       0.97      0.89      0.93     11797\n",
      "\n"
     ]
    }
   ],
   "source": [
    "model_xgb_hyper = grid_xgb.best_estimator_\n",
    "model_xgb_hyper.fit(x_train,y_train)\n",
    "print(classification_report(y_test, model_xgb_hyper.predict(x_test)))"
   ]
  },
  {
   "cell_type": "markdown",
   "id": "d13bb3b0",
   "metadata": {},
   "source": [
    "didapatkan bahwa model yang memiliki evaluasi metrics terbaik ialah model xgboost yang telah dilakukan hyperparametertunning. xgboost sendiri ialah model yang dibuat dengan based decision tree. pada dasarnya model boosting sendiri pertama2 dia membuat pohon keputusan dari data training nya terlebih dahulu. dari pohon keputusan yang pertama akan dibangun pohon keputusan kedua yang telah dilakukan koreksi pada hasil prediksinya dengan cara menambahkan bobot pada data yang salah. proses ini akan dilakukan secara terus menerus sampai jumlah yang diperintahkan. hasil prediksi dari tiap pohon keputusan pada akhirnya akan dilakukan majority voting untuk menentukan nilai final prediksi.  perbedaan xgboost dengan boosting lainnya, xgboost menambahkan beberapa proses tambahan sehingga lebih powerful. Proses tersebut adalah pemangkasan, newton boosting, dan parameter pengacakan ekstra."
   ]
  },
  {
   "cell_type": "markdown",
   "id": "5e5ed1e1",
   "metadata": {},
   "source": [
    "## 4.2 Confussion Matrix"
   ]
  },
  {
   "cell_type": "markdown",
   "id": "c21b7312",
   "metadata": {},
   "source": [
    "dari hasil evaluasi metrics model nanti bisa didapatkan confussion metrics. Confession metrics memberikan rincian hasil prediksi dan jenis kesalahan. Setiap sel dalam matriks mewakili kombinasi contoh respons yang diprediksi dan respons aktual. "
   ]
  },
  {
   "cell_type": "code",
   "execution_count": 164,
   "id": "ea29cb42",
   "metadata": {},
   "outputs": [
    {
     "data": {
      "text/plain": [
       "<sklearn.metrics._plot.confusion_matrix.ConfusionMatrixDisplay at 0x17736dca4c0>"
      ]
     },
     "execution_count": 164,
     "metadata": {},
     "output_type": "execute_result"
    },
    {
     "data": {
      "image/png": "[encoded data removed]",
      "text/plain": [
       "<Figure size 432x288 with 2 Axes>"
      ]
     },
     "metadata": {
      "needs_background": "light"
     },
     "output_type": "display_data"
    }
   ],
   "source": [
    "plot_confusion_matrix(model_xgb_hyper, x_test, y_test)"
   ]
  },
  {
   "cell_type": "markdown",
   "id": "e2ff4116",
   "metadata": {},
   "source": [
    "## 4.3 Cost Evaluation"
   ]
  },
  {
   "cell_type": "markdown",
   "id": "76a447ef",
   "metadata": {},
   "source": [
    "### 4.3.1 Tanpa Model Machine Learning\n",
    "Dari 1000 customer, apabila tanpa menggunakan model machine learning, perusahaan harus mengalokasikan dana tidak bergerak untuk setiap customer karena kita tidak bisa memprediksi apakah mereka akan melakukan claim atau tidak. Bila 1 customer dapat melakukan claim tanggungan sekitar 1.300 SGD paling sedikit (berdasarkan sumber, setelah dilakukan konversi mata uang https://www.asuransiperjalananonline.com/allianz-travelpro/) \n",
    "\n",
    "Perhitungan :   \n",
    "* 1 Customer -> harus disiapkan dana sekitar 1.300 SGD\n",
    "* Asumsikan kita memiliki 1000 customer\n",
    "* Apabila kita mengasumsikan semua customer melakukan claim -> 1000 x 1.300 SGD = 1.300.000 SGD"
   ]
  },
  {
   "cell_type": "markdown",
   "id": "996f0c93",
   "metadata": {},
   "source": [
    "### 4.3.2 Dengan Model Machine Learning\n",
    "apabila menggunakan model machine learning, kita memprediksi hanya sebanyak 8% orang yang akan benar-benar melakukan claim.\n",
    "\n",
    "Perhitungan :   \n",
    "* 1 Customer -> harus disiapkan dana sekitar 1.300 SGD\n",
    "* Asumsikan kita memiliki 1000 customer, 8% yang hanya claim : 1000 x 8% = 80 \n",
    "* Apabila kita bisa memprediksi hanya 80 orang yang akan melakukan claim -> 80 x 1.300 SGD= 104.000 SGD"
   ]
  },
  {
   "cell_type": "markdown",
   "id": "f0ef9b59",
   "metadata": {},
   "source": [
    "### 4.3.3 Cost Evaluation Conclusion\n",
    "Tanpa menggunakan model machine learning perusahaan harus menyiapkan dana tidak bergerak sebesar 1.300.000 SGD untuk seluruh customer, sedangkan jika kita menggunakan model yang terpilih perusahaan hanya perlu mempersiapkan 104.000 SGD, perusahaan dapat mengalokasikan dana sekitar 1.196.000 SGD tersebut untuk di putarkan dalam membangun ataupun mengembang sektor bisnis perusahaan lainnya."
   ]
  },
  {
   "cell_type": "markdown",
   "id": "7734f832",
   "metadata": {},
   "source": [
    "# 5. Rekomendasi "
   ]
  },
  {
   "cell_type": "markdown",
   "id": "b14b3c11",
   "metadata": {},
   "source": [
    "Kita dapat mengembangkan project dan model yang lebih baik dengan melakukan :\n",
    "\n",
    "1. Membuat catatan yang lebih lengkap agar seluruh fitur pada dataset dapat dipergunakan terutama pada kolom `Gender` \n",
    "2. Dapat menambahkan kolom baru yang lebih relevan terhadap apakah customer akan melakukan claim atau tidak, seperti kolom `Riwayat Penyakit` (untuk mengetahui lebih jelas karakteristik dari customer), kolom `Melakukan perjalan sendiri atau kelompok`, etc.      \n",
    "3. Dapat mencoba untuk mengeksplore data lebih jauh lagi.     \n",
    "4. Dapat menambahkan matrix evaluasi lainnya seperti fbeta - score juga sebagai pembanding.  \n",
    "5. Dapat mencoba algoritma machine learning yang lain, serta dapat melakukan metode resampling lain untuk diterapkan pada algoritma machine learning yang dipilih.     \n",
    "6. Dapat melakukan hyperparameter tuning kembali untuk mendapatkan performa yang lebih baik lagi.   \n",
    "7. Melakukan Analisa  yang jauh lebih dalam terhadap model yang lain lagi."
   ]
  },
  {
   "cell_type": "markdown",
   "id": "86e900a9",
   "metadata": {},
   "source": [
    "### Save Model"
   ]
  },
  {
   "cell_type": "code",
   "execution_count": 178,
   "id": "5b302a7e",
   "metadata": {},
   "outputs": [
    {
     "data": {
      "text/html": [
       "<style>#sk-container-id-6 {color: black;background-color: white;}#sk-container-id-6 pre{padding: 0;}#sk-container-id-6 div.sk-toggleable {background-color: white;}#sk-container-id-6 label.sk-toggleable__label {cursor: pointer;display: block;width: 100%;margin-bottom: 0;padding: 0.3em;box-sizing: border-box;text-align: center;}#sk-container-id-6 label.sk-toggleable__label-arrow:before {content: \"▸\";float: left;margin-right: 0.25em;color: #696969;}#sk-container-id-6 label.sk-toggleable__label-arrow:hover:before {color: black;}#sk-container-id-6 div.sk-estimator:hover label.sk-toggleable__label-arrow:before {color: black;}#sk-container-id-6 div.sk-toggleable__content {max-height: 0;max-width: 0;overflow: hidden;text-align: left;background-color: #f0f8ff;}#sk-container-id-6 div.sk-toggleable__content pre {margin: 0.2em;color: black;border-radius: 0.25em;background-color: #f0f8ff;}#sk-container-id-6 input.sk-toggleable__control:checked~div.sk-toggleable__content {max-height: 200px;max-width: 100%;overflow: auto;}#sk-container-id-6 input.sk-toggleable__control:checked~label.sk-toggleable__label-arrow:before {content: \"▾\";}#sk-container-id-6 div.sk-estimator input.sk-toggleable__control:checked~label.sk-toggleable__label {background-color: #d4ebff;}#sk-container-id-6 div.sk-label input.sk-toggleable__control:checked~label.sk-toggleable__label {background-color: #d4ebff;}#sk-container-id-6 input.sk-hidden--visually {border: 0;clip: rect(1px 1px 1px 1px);clip: rect(1px, 1px, 1px, 1px);height: 1px;margin: -1px;overflow: hidden;padding: 0;position: absolute;width: 1px;}#sk-container-id-6 div.sk-estimator {font-family: monospace;background-color: #f0f8ff;border: 1px dotted black;border-radius: 0.25em;box-sizing: border-box;margin-bottom: 0.5em;}#sk-container-id-6 div.sk-estimator:hover {background-color: #d4ebff;}#sk-container-id-6 div.sk-parallel-item::after {content: \"\";width: 100%;border-bottom: 1px solid gray;flex-grow: 1;}#sk-container-id-6 div.sk-label:hover label.sk-toggleable__label {background-color: #d4ebff;}#sk-container-id-6 div.sk-serial::before {content: \"\";position: absolute;border-left: 1px solid gray;box-sizing: border-box;top: 0;bottom: 0;left: 50%;z-index: 0;}#sk-container-id-6 div.sk-serial {display: flex;flex-direction: column;align-items: center;background-color: white;padding-right: 0.2em;padding-left: 0.2em;position: relative;}#sk-container-id-6 div.sk-item {position: relative;z-index: 1;}#sk-container-id-6 div.sk-parallel {display: flex;align-items: stretch;justify-content: center;background-color: white;position: relative;}#sk-container-id-6 div.sk-item::before, #sk-container-id-6 div.sk-parallel-item::before {content: \"\";position: absolute;border-left: 1px solid gray;box-sizing: border-box;top: 0;bottom: 0;left: 50%;z-index: -1;}#sk-container-id-6 div.sk-parallel-item {display: flex;flex-direction: column;z-index: 1;position: relative;background-color: white;}#sk-container-id-6 div.sk-parallel-item:first-child::after {align-self: flex-end;width: 50%;}#sk-container-id-6 div.sk-parallel-item:last-child::after {align-self: flex-start;width: 50%;}#sk-container-id-6 div.sk-parallel-item:only-child::after {width: 0;}#sk-container-id-6 div.sk-dashed-wrapped {border: 1px dashed gray;margin: 0 0.4em 0.5em 0.4em;box-sizing: border-box;padding-bottom: 0.4em;background-color: white;}#sk-container-id-6 div.sk-label label {font-family: monospace;font-weight: bold;display: inline-block;line-height: 1.2em;}#sk-container-id-6 div.sk-label-container {text-align: center;}#sk-container-id-6 div.sk-container {/* jupyter's `normalize.less` sets `[hidden] { display: none; }` but bootstrap.min.css set `[hidden] { display: none !important; }` so we also need the `!important` here to be able to override the default hidden behavior on the sphinx rendered scikit-learn.org. See: https://github.com/scikit-learn/scikit-learn/issues/21755 */display: inline-block !important;position: relative;}#sk-container-id-6 div.sk-text-repr-fallback {display: none;}</style><div id=\"sk-container-id-6\" class=\"sk-top-container\"><div class=\"sk-text-repr-fallback\"><pre>Pipeline(steps=[(&#x27;preprocess&#x27;,\n",
       "                 ColumnTransformer(remainder=&#x27;passthrough&#x27;,\n",
       "                                   transformers=[(&#x27;onehot&#x27;,\n",
       "                                                  OneHotEncoder(drop=&#x27;first&#x27;),\n",
       "                                                  [&#x27;Agency Type&#x27;,\n",
       "                                                   &#x27;Distribution Channel&#x27;]),\n",
       "                                                 (&#x27;binary&#x27;, BinaryEncoder(),\n",
       "                                                  [&#x27;Product Name&#x27;,\n",
       "                                                   &#x27;Destination&#x27;,\n",
       "                                                   &#x27;Agency&#x27;])])),\n",
       "                (&#x27;resampling&#x27;, SMOTE(random_state=2020)),\n",
       "                (&#x27;model&#x27;,\n",
       "                 XGBClassifier(base_score=0.5, booster=&#x27;gbtree&#x27;, callbacks=None,\n",
       "                               colsample...\n",
       "                               feature_types=None, gamma=0, gpu_id=-1,\n",
       "                               grow_policy=&#x27;depthwise&#x27;, importance_type=None,\n",
       "                               interaction_constraints=&#x27;&#x27;, learning_rate=0.03,\n",
       "                               max_bin=256, max_cat_threshold=64,\n",
       "                               max_cat_to_onehot=4, max_delta_step=0,\n",
       "                               max_depth=3, max_leaves=0, min_child_weight=1,\n",
       "                               missing=nan, monotone_constraints=&#x27;()&#x27;,\n",
       "                               n_estimators=300, n_jobs=0, num_parallel_tree=1,\n",
       "                               predictor=&#x27;auto&#x27;, random_state=2020, ...))])</pre><b>In a Jupyter environment, please rerun this cell to show the HTML representation or trust the notebook. <br />On GitHub, the HTML representation is unable to render, please try loading this page with nbviewer.org.</b></div><div class=\"sk-container\" hidden><div class=\"sk-item sk-dashed-wrapped\"><div class=\"sk-label-container\"><div class=\"sk-label sk-toggleable\"><input class=\"sk-toggleable__control sk-hidden--visually\" id=\"sk-estimator-id-55\" type=\"checkbox\" ><label for=\"sk-estimator-id-55\" class=\"sk-toggleable__label sk-toggleable__label-arrow\">Pipeline</label><div class=\"sk-toggleable__content\"><pre>Pipeline(steps=[(&#x27;preprocess&#x27;,\n",
       "                 ColumnTransformer(remainder=&#x27;passthrough&#x27;,\n",
       "                                   transformers=[(&#x27;onehot&#x27;,\n",
       "                                                  OneHotEncoder(drop=&#x27;first&#x27;),\n",
       "                                                  [&#x27;Agency Type&#x27;,\n",
       "                                                   &#x27;Distribution Channel&#x27;]),\n",
       "                                                 (&#x27;binary&#x27;, BinaryEncoder(),\n",
       "                                                  [&#x27;Product Name&#x27;,\n",
       "                                                   &#x27;Destination&#x27;,\n",
       "                                                   &#x27;Agency&#x27;])])),\n",
       "                (&#x27;resampling&#x27;, SMOTE(random_state=2020)),\n",
       "                (&#x27;model&#x27;,\n",
       "                 XGBClassifier(base_score=0.5, booster=&#x27;gbtree&#x27;, callbacks=None,\n",
       "                               colsample...\n",
       "                               feature_types=None, gamma=0, gpu_id=-1,\n",
       "                               grow_policy=&#x27;depthwise&#x27;, importance_type=None,\n",
       "                               interaction_constraints=&#x27;&#x27;, learning_rate=0.03,\n",
       "                               max_bin=256, max_cat_threshold=64,\n",
       "                               max_cat_to_onehot=4, max_delta_step=0,\n",
       "                               max_depth=3, max_leaves=0, min_child_weight=1,\n",
       "                               missing=nan, monotone_constraints=&#x27;()&#x27;,\n",
       "                               n_estimators=300, n_jobs=0, num_parallel_tree=1,\n",
       "                               predictor=&#x27;auto&#x27;, random_state=2020, ...))])</pre></div></div></div><div class=\"sk-serial\"><div class=\"sk-item sk-dashed-wrapped\"><div class=\"sk-label-container\"><div class=\"sk-label sk-toggleable\"><input class=\"sk-toggleable__control sk-hidden--visually\" id=\"sk-estimator-id-56\" type=\"checkbox\" ><label for=\"sk-estimator-id-56\" class=\"sk-toggleable__label sk-toggleable__label-arrow\">preprocess: ColumnTransformer</label><div class=\"sk-toggleable__content\"><pre>ColumnTransformer(remainder=&#x27;passthrough&#x27;,\n",
       "                  transformers=[(&#x27;onehot&#x27;, OneHotEncoder(drop=&#x27;first&#x27;),\n",
       "                                 [&#x27;Agency Type&#x27;, &#x27;Distribution Channel&#x27;]),\n",
       "                                (&#x27;binary&#x27;, BinaryEncoder(),\n",
       "                                 [&#x27;Product Name&#x27;, &#x27;Destination&#x27;, &#x27;Agency&#x27;])])</pre></div></div></div><div class=\"sk-parallel\"><div class=\"sk-parallel-item\"><div class=\"sk-item\"><div class=\"sk-label-container\"><div class=\"sk-label sk-toggleable\"><input class=\"sk-toggleable__control sk-hidden--visually\" id=\"sk-estimator-id-57\" type=\"checkbox\" ><label for=\"sk-estimator-id-57\" class=\"sk-toggleable__label sk-toggleable__label-arrow\">onehot</label><div class=\"sk-toggleable__content\"><pre>[&#x27;Agency Type&#x27;, &#x27;Distribution Channel&#x27;]</pre></div></div></div><div class=\"sk-serial\"><div class=\"sk-item\"><div class=\"sk-estimator sk-toggleable\"><input class=\"sk-toggleable__control sk-hidden--visually\" id=\"sk-estimator-id-58\" type=\"checkbox\" ><label for=\"sk-estimator-id-58\" class=\"sk-toggleable__label sk-toggleable__label-arrow\">OneHotEncoder</label><div class=\"sk-toggleable__content\"><pre>OneHotEncoder(drop=&#x27;first&#x27;)</pre></div></div></div></div></div></div><div class=\"sk-parallel-item\"><div class=\"sk-item\"><div class=\"sk-label-container\"><div class=\"sk-label sk-toggleable\"><input class=\"sk-toggleable__control sk-hidden--visually\" id=\"sk-estimator-id-59\" type=\"checkbox\" ><label for=\"sk-estimator-id-59\" class=\"sk-toggleable__label sk-toggleable__label-arrow\">binary</label><div class=\"sk-toggleable__content\"><pre>[&#x27;Product Name&#x27;, &#x27;Destination&#x27;, &#x27;Agency&#x27;]</pre></div></div></div><div class=\"sk-serial\"><div class=\"sk-item\"><div class=\"sk-estimator sk-toggleable\"><input class=\"sk-toggleable__control sk-hidden--visually\" id=\"sk-estimator-id-60\" type=\"checkbox\" ><label for=\"sk-estimator-id-60\" class=\"sk-toggleable__label sk-toggleable__label-arrow\">BinaryEncoder</label><div class=\"sk-toggleable__content\"><pre>BinaryEncoder()</pre></div></div></div></div></div></div><div class=\"sk-parallel-item\"><div class=\"sk-item\"><div class=\"sk-label-container\"><div class=\"sk-label sk-toggleable\"><input class=\"sk-toggleable__control sk-hidden--visually\" id=\"sk-estimator-id-61\" type=\"checkbox\" ><label for=\"sk-estimator-id-61\" class=\"sk-toggleable__label sk-toggleable__label-arrow\">remainder</label><div class=\"sk-toggleable__content\"><pre>[&#x27;Duration&#x27;, &#x27;Net Sales&#x27;, &#x27;Commision (in value)&#x27;, &#x27;Age&#x27;]</pre></div></div></div><div class=\"sk-serial\"><div class=\"sk-item\"><div class=\"sk-estimator sk-toggleable\"><input class=\"sk-toggleable__control sk-hidden--visually\" id=\"sk-estimator-id-62\" type=\"checkbox\" ><label for=\"sk-estimator-id-62\" class=\"sk-toggleable__label sk-toggleable__label-arrow\">passthrough</label><div class=\"sk-toggleable__content\"><pre>passthrough</pre></div></div></div></div></div></div></div></div><div class=\"sk-item\"><div class=\"sk-estimator sk-toggleable\"><input class=\"sk-toggleable__control sk-hidden--visually\" id=\"sk-estimator-id-63\" type=\"checkbox\" ><label for=\"sk-estimator-id-63\" class=\"sk-toggleable__label sk-toggleable__label-arrow\">SMOTE</label><div class=\"sk-toggleable__content\"><pre>SMOTE(random_state=2020)</pre></div></div></div><div class=\"sk-item\"><div class=\"sk-estimator sk-toggleable\"><input class=\"sk-toggleable__control sk-hidden--visually\" id=\"sk-estimator-id-64\" type=\"checkbox\" ><label for=\"sk-estimator-id-64\" class=\"sk-toggleable__label sk-toggleable__label-arrow\">XGBClassifier</label><div class=\"sk-toggleable__content\"><pre>XGBClassifier(base_score=0.5, booster=&#x27;gbtree&#x27;, callbacks=None,\n",
       "              colsample_bylevel=1, colsample_bynode=1, colsample_bytree=1,\n",
       "              early_stopping_rounds=None, enable_categorical=False,\n",
       "              eval_metric=None, feature_types=None, gamma=0, gpu_id=-1,\n",
       "              grow_policy=&#x27;depthwise&#x27;, importance_type=None,\n",
       "              interaction_constraints=&#x27;&#x27;, learning_rate=0.03, max_bin=256,\n",
       "              max_cat_threshold=64, max_cat_to_onehot=4, max_delta_step=0,\n",
       "              max_depth=3, max_leaves=0, min_child_weight=1, missing=nan,\n",
       "              monotone_constraints=&#x27;()&#x27;, n_estimators=300, n_jobs=0,\n",
       "              num_parallel_tree=1, predictor=&#x27;auto&#x27;, random_state=2020, ...)</pre></div></div></div></div></div></div></div>"
      ],
      "text/plain": [
       "Pipeline(steps=[('preprocess',\n",
       "                 ColumnTransformer(remainder='passthrough',\n",
       "                                   transformers=[('onehot',\n",
       "                                                  OneHotEncoder(drop='first'),\n",
       "                                                  ['Agency Type',\n",
       "                                                   'Distribution Channel']),\n",
       "                                                 ('binary', BinaryEncoder(),\n",
       "                                                  ['Product Name',\n",
       "                                                   'Destination',\n",
       "                                                   'Agency'])])),\n",
       "                ('resampling', SMOTE(random_state=2020)),\n",
       "                ('model',\n",
       "                 XGBClassifier(base_score=0.5, booster='gbtree', callbacks=None,\n",
       "                               colsample...\n",
       "                               feature_types=None, gamma=0, gpu_id=-1,\n",
       "                               grow_policy='depthwise', importance_type=None,\n",
       "                               interaction_constraints='', learning_rate=0.03,\n",
       "                               max_bin=256, max_cat_threshold=64,\n",
       "                               max_cat_to_onehot=4, max_delta_step=0,\n",
       "                               max_depth=3, max_leaves=0, min_child_weight=1,\n",
       "                               missing=nan, monotone_constraints='()',\n",
       "                               n_estimators=300, n_jobs=0, num_parallel_tree=1,\n",
       "                               predictor='auto', random_state=2020, ...))])"
      ]
     },
     "execution_count": 178,
     "metadata": {},
     "output_type": "execute_result"
    }
   ],
   "source": [
    "model_save=model_xgb_hyper.fit(x,y)\n",
    "model_save"
   ]
  },
  {
   "cell_type": "code",
   "execution_count": 179,
   "id": "b07819c5",
   "metadata": {},
   "outputs": [],
   "source": [
    "# Save Model\n",
    "pickle.dump(model_save, open('model_prediction_pickle.sav','wb'))"
   ]
  },
  {
   "cell_type": "code",
   "execution_count": null,
   "id": "3125885e",
   "metadata": {},
   "outputs": [],
   "source": []
  }
 ],
 "metadata": {
  "kernelspec": {
   "display_name": "Python 3 (ipykernel)",
   "language": "python",
   "name": "python3"
  },
  "language_info": {
   "codemirror_mode": {
    "name": "ipython",
    "version": 3
   },
   "file_extension": ".py",
   "mimetype": "text/x-python",
   "name": "python",
   "nbconvert_exporter": "python",
   "pygments_lexer": "ipython3",
   "version": "3.9.12"
  }
 },
 "nbformat": 4,
 "nbformat_minor": 5
}
